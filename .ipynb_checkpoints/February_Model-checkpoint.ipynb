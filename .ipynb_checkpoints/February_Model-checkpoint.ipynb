{
 "cells": [
  {
   "cell_type": "code",
   "execution_count": 29,
   "metadata": {},
   "outputs": [],
   "source": [
    "import pathlib\n",
    "\n",
    "import matplotlib.pyplot as plt\n",
    "import numpy as np\n",
    "import pandas as pd\n",
    "import seaborn as sns"
   ]
  },
  {
   "cell_type": "code",
   "execution_count": 2,
   "metadata": {},
   "outputs": [
    {
     "name": "stdout",
     "output_type": "stream",
     "text": [
      "2.0.0\n"
     ]
    }
   ],
   "source": [
    "import tensorflow as tf\n",
    "\n",
    "from tensorflow import keras\n",
    "from tensorflow.keras import layers\n",
    "\n",
    "print(tf.__version__)"
   ]
  },
  {
   "cell_type": "code",
   "execution_count": 93,
   "metadata": {},
   "outputs": [],
   "source": [
    "# Use some functions from tensorflow_docs\n",
    "!pip install -q git+https://github.com/tensorflow/docs\n",
    "import tensorflow_docs as tfdocs\n",
    "import tensorflow_docs.plots\n",
    "import tensorflow_docs.modeling"
   ]
  },
  {
   "cell_type": "code",
   "execution_count": 91,
   "metadata": {
    "scrolled": false
   },
   "outputs": [],
   "source": [
    "Indianapolis_Housing_February = pd.read_csv(\"Indianapolis_Housing_February.csv\")\n",
    "Indianapolis_Housing_February.head()\n",
    "Indianapolis_Housing_February = Indianapolis_Housing_February.drop([\"Unnamed: 0\", \"Date\", \"Year\", \"Month\", \"Zip_Code_Integer\"], axis=1)\n"
   ]
  },
  {
   "cell_type": "code",
   "execution_count": 74,
   "metadata": {},
   "outputs": [],
   "source": [
    "#X = Indianapolis_Housing_February[[\"Integer_Year\", \"Zip_Code_Integer\", \"No. of Bedrooms\", \n",
    "                                   #\"Median Market Value (Single Family)\",\n",
    "                                  #\"Median List Price per SqFt Calculated\",\n",
    "                                  #\"Median List Price Calculated\"]].values\n",
    "\n",
    "#y = Indianapolis_Housing_February[\"Median Bedroom Price\"].values\n",
    "#y = y.reshape(-1, 1)\n",
    "#print(X.shape, y.shape)"
   ]
  },
  {
   "cell_type": "code",
   "execution_count": 75,
   "metadata": {},
   "outputs": [],
   "source": [
    "from sklearn.model_selection import train_test_split\n",
    "from sklearn.preprocessing import LabelEncoder, MinMaxScaler"
   ]
  },
  {
   "cell_type": "code",
   "execution_count": 76,
   "metadata": {},
   "outputs": [],
   "source": [
    "#X_train, X_test, y_train, y_test = train_test_split(\n",
    "    #X, y, random_state=1)"
   ]
  },
  {
   "cell_type": "code",
   "execution_count": 77,
   "metadata": {},
   "outputs": [],
   "source": [
    "#X_scaler = MinMaxScaler().fit(X_train)\n",
    "#y_scaler = MinMaxScaler().fit(y_train)\n",
    "#X_train_scaled = X_scaler.transform(X_train)\n",
    "#X_test_scaled = X_scaler.transform(X_test)"
   ]
  },
  {
   "cell_type": "code",
   "execution_count": 78,
   "metadata": {
    "scrolled": true
   },
   "outputs": [
    {
     "data": {
      "text/html": [
       "<div>\n",
       "<style scoped>\n",
       "    .dataframe tbody tr th:only-of-type {\n",
       "        vertical-align: middle;\n",
       "    }\n",
       "\n",
       "    .dataframe tbody tr th {\n",
       "        vertical-align: top;\n",
       "    }\n",
       "\n",
       "    .dataframe thead th {\n",
       "        text-align: right;\n",
       "    }\n",
       "</style>\n",
       "<table border=\"1\" class=\"dataframe\">\n",
       "  <thead>\n",
       "    <tr style=\"text-align: right;\">\n",
       "      <th></th>\n",
       "      <th>Integer_Year</th>\n",
       "      <th>Median Bedroom Price</th>\n",
       "      <th>Median Market Value (Single Family)</th>\n",
       "      <th>Median List Price per SqFt Calculated</th>\n",
       "      <th>Median List Price Calculated</th>\n",
       "      <th>46219</th>\n",
       "      <th>46220</th>\n",
       "      <th>46227</th>\n",
       "      <th>1 Bedroom</th>\n",
       "      <th>2 Bedroom</th>\n",
       "      <th>3 Bedroom</th>\n",
       "      <th>4 Bedroom</th>\n",
       "      <th>5 Bedroom</th>\n",
       "    </tr>\n",
       "  </thead>\n",
       "  <tbody>\n",
       "    <tr>\n",
       "      <th>0</th>\n",
       "      <td>2</td>\n",
       "      <td>253600.0</td>\n",
       "      <td>127200.0</td>\n",
       "      <td>99.813379</td>\n",
       "      <td>142629.734862</td>\n",
       "      <td>0</td>\n",
       "      <td>1</td>\n",
       "      <td>0</td>\n",
       "      <td>0</td>\n",
       "      <td>0</td>\n",
       "      <td>0</td>\n",
       "      <td>0</td>\n",
       "      <td>1</td>\n",
       "    </tr>\n",
       "    <tr>\n",
       "      <th>1</th>\n",
       "      <td>3</td>\n",
       "      <td>283400.0</td>\n",
       "      <td>153100.0</td>\n",
       "      <td>70.432389</td>\n",
       "      <td>107461.651148</td>\n",
       "      <td>0</td>\n",
       "      <td>1</td>\n",
       "      <td>0</td>\n",
       "      <td>0</td>\n",
       "      <td>0</td>\n",
       "      <td>0</td>\n",
       "      <td>0</td>\n",
       "      <td>1</td>\n",
       "    </tr>\n",
       "    <tr>\n",
       "      <th>2</th>\n",
       "      <td>4</td>\n",
       "      <td>292300.0</td>\n",
       "      <td>148500.0</td>\n",
       "      <td>77.745670</td>\n",
       "      <td>116215.409068</td>\n",
       "      <td>0</td>\n",
       "      <td>1</td>\n",
       "      <td>0</td>\n",
       "      <td>0</td>\n",
       "      <td>0</td>\n",
       "      <td>0</td>\n",
       "      <td>0</td>\n",
       "      <td>1</td>\n",
       "    </tr>\n",
       "    <tr>\n",
       "      <th>3</th>\n",
       "      <td>5</td>\n",
       "      <td>259545.0</td>\n",
       "      <td>155199.0</td>\n",
       "      <td>12.289483</td>\n",
       "      <td>37866.494919</td>\n",
       "      <td>0</td>\n",
       "      <td>1</td>\n",
       "      <td>0</td>\n",
       "      <td>0</td>\n",
       "      <td>0</td>\n",
       "      <td>0</td>\n",
       "      <td>0</td>\n",
       "      <td>1</td>\n",
       "    </tr>\n",
       "    <tr>\n",
       "      <th>4</th>\n",
       "      <td>6</td>\n",
       "      <td>285211.0</td>\n",
       "      <td>155226.0</td>\n",
       "      <td>28.325005</td>\n",
       "      <td>57060.489560</td>\n",
       "      <td>0</td>\n",
       "      <td>1</td>\n",
       "      <td>0</td>\n",
       "      <td>0</td>\n",
       "      <td>0</td>\n",
       "      <td>0</td>\n",
       "      <td>0</td>\n",
       "      <td>1</td>\n",
       "    </tr>\n",
       "    <tr>\n",
       "      <th>...</th>\n",
       "      <td>...</td>\n",
       "      <td>...</td>\n",
       "      <td>...</td>\n",
       "      <td>...</td>\n",
       "      <td>...</td>\n",
       "      <td>...</td>\n",
       "      <td>...</td>\n",
       "      <td>...</td>\n",
       "      <td>...</td>\n",
       "      <td>...</td>\n",
       "      <td>...</td>\n",
       "      <td>...</td>\n",
       "      <td>...</td>\n",
       "    </tr>\n",
       "    <tr>\n",
       "      <th>344</th>\n",
       "      <td>21</td>\n",
       "      <td>65598.0</td>\n",
       "      <td>122314.0</td>\n",
       "      <td>82.500000</td>\n",
       "      <td>120000.000000</td>\n",
       "      <td>0</td>\n",
       "      <td>0</td>\n",
       "      <td>1</td>\n",
       "      <td>1</td>\n",
       "      <td>0</td>\n",
       "      <td>0</td>\n",
       "      <td>0</td>\n",
       "      <td>0</td>\n",
       "    </tr>\n",
       "    <tr>\n",
       "      <th>345</th>\n",
       "      <td>22</td>\n",
       "      <td>70362.0</td>\n",
       "      <td>128112.0</td>\n",
       "      <td>87.714509</td>\n",
       "      <td>129900.000000</td>\n",
       "      <td>0</td>\n",
       "      <td>0</td>\n",
       "      <td>1</td>\n",
       "      <td>1</td>\n",
       "      <td>0</td>\n",
       "      <td>0</td>\n",
       "      <td>0</td>\n",
       "      <td>0</td>\n",
       "    </tr>\n",
       "    <tr>\n",
       "      <th>346</th>\n",
       "      <td>23</td>\n",
       "      <td>75274.0</td>\n",
       "      <td>139410.0</td>\n",
       "      <td>102.368212</td>\n",
       "      <td>136100.000000</td>\n",
       "      <td>0</td>\n",
       "      <td>0</td>\n",
       "      <td>1</td>\n",
       "      <td>1</td>\n",
       "      <td>0</td>\n",
       "      <td>0</td>\n",
       "      <td>0</td>\n",
       "      <td>0</td>\n",
       "    </tr>\n",
       "    <tr>\n",
       "      <th>347</th>\n",
       "      <td>24</td>\n",
       "      <td>89682.0</td>\n",
       "      <td>154350.0</td>\n",
       "      <td>104.166667</td>\n",
       "      <td>150000.000000</td>\n",
       "      <td>0</td>\n",
       "      <td>0</td>\n",
       "      <td>1</td>\n",
       "      <td>1</td>\n",
       "      <td>0</td>\n",
       "      <td>0</td>\n",
       "      <td>0</td>\n",
       "      <td>0</td>\n",
       "    </tr>\n",
       "    <tr>\n",
       "      <th>348</th>\n",
       "      <td>25</td>\n",
       "      <td>92532.0</td>\n",
       "      <td>161466.0</td>\n",
       "      <td>107.894409</td>\n",
       "      <td>155245.605765</td>\n",
       "      <td>0</td>\n",
       "      <td>0</td>\n",
       "      <td>1</td>\n",
       "      <td>1</td>\n",
       "      <td>0</td>\n",
       "      <td>0</td>\n",
       "      <td>0</td>\n",
       "      <td>0</td>\n",
       "    </tr>\n",
       "  </tbody>\n",
       "</table>\n",
       "<p>349 rows × 13 columns</p>\n",
       "</div>"
      ],
      "text/plain": [
       "     Integer_Year  Median Bedroom Price  Median Market Value (Single Family)  \\\n",
       "0               2              253600.0                             127200.0   \n",
       "1               3              283400.0                             153100.0   \n",
       "2               4              292300.0                             148500.0   \n",
       "3               5              259545.0                             155199.0   \n",
       "4               6              285211.0                             155226.0   \n",
       "..            ...                   ...                                  ...   \n",
       "344            21               65598.0                             122314.0   \n",
       "345            22               70362.0                             128112.0   \n",
       "346            23               75274.0                             139410.0   \n",
       "347            24               89682.0                             154350.0   \n",
       "348            25               92532.0                             161466.0   \n",
       "\n",
       "     Median List Price per SqFt Calculated  Median List Price Calculated  \\\n",
       "0                                99.813379                 142629.734862   \n",
       "1                                70.432389                 107461.651148   \n",
       "2                                77.745670                 116215.409068   \n",
       "3                                12.289483                  37866.494919   \n",
       "4                                28.325005                  57060.489560   \n",
       "..                                     ...                           ...   \n",
       "344                              82.500000                 120000.000000   \n",
       "345                              87.714509                 129900.000000   \n",
       "346                             102.368212                 136100.000000   \n",
       "347                             104.166667                 150000.000000   \n",
       "348                             107.894409                 155245.605765   \n",
       "\n",
       "     46219  46220  46227  1 Bedroom  2 Bedroom  3 Bedroom  4 Bedroom  \\\n",
       "0        0      1      0          0          0          0          0   \n",
       "1        0      1      0          0          0          0          0   \n",
       "2        0      1      0          0          0          0          0   \n",
       "3        0      1      0          0          0          0          0   \n",
       "4        0      1      0          0          0          0          0   \n",
       "..     ...    ...    ...        ...        ...        ...        ...   \n",
       "344      0      0      1          1          0          0          0   \n",
       "345      0      0      1          1          0          0          0   \n",
       "346      0      0      1          1          0          0          0   \n",
       "347      0      0      1          1          0          0          0   \n",
       "348      0      0      1          1          0          0          0   \n",
       "\n",
       "     5 Bedroom  \n",
       "0            1  \n",
       "1            1  \n",
       "2            1  \n",
       "3            1  \n",
       "4            1  \n",
       "..         ...  \n",
       "344          0  \n",
       "345          0  \n",
       "346          0  \n",
       "347          0  \n",
       "348          0  \n",
       "\n",
       "[349 rows x 13 columns]"
      ]
     },
     "execution_count": 78,
     "metadata": {},
     "output_type": "execute_result"
    }
   ],
   "source": [
    "Indianapolis_Housing_February['Zip_Code'] = Indianapolis_Housing_February['Zip_Code'].map({46220: '46220', 46219: '46219', 46227: '46227'})\n",
    "Indianapolis_Housing_February = pd.get_dummies(Indianapolis_Housing_February,columns=[\"Zip_Code\"], prefix='', prefix_sep='')\n",
    "\n",
    "Indianapolis_Housing_February[\"No. of Bedrooms\"] = Indianapolis_Housing_February['No. of Bedrooms'].map({1: '1 Bedroom', 2: '2 Bedroom', 3: '3 Bedroom', 4: '4 Bedroom', 5: '5 Bedroom'})\n",
    "Indianapolis_Housing_February = pd.get_dummies(Indianapolis_Housing_February,columns=[\"No. of Bedrooms\"], prefix='', prefix_sep='')\n",
    "Indianapolis_Housing_February\n"
   ]
  },
  {
   "cell_type": "code",
   "execution_count": 79,
   "metadata": {},
   "outputs": [],
   "source": [
    "train_dataset = Indianapolis_Housing_February.sample(frac=0.8,random_state=0)\n",
    "test_dataset = Indianapolis_Housing_February.drop(train_dataset.index)"
   ]
  },
  {
   "cell_type": "code",
   "execution_count": 81,
   "metadata": {},
   "outputs": [],
   "source": [
    "#sns.pairplot(train_dataset[[\"MPG\", \"Cylinders\", \"Displacement\", \"Weight\"]], diag_kind=\"kde\")"
   ]
  },
  {
   "cell_type": "code",
   "execution_count": 82,
   "metadata": {},
   "outputs": [
    {
     "data": {
      "text/html": [
       "<div>\n",
       "<style scoped>\n",
       "    .dataframe tbody tr th:only-of-type {\n",
       "        vertical-align: middle;\n",
       "    }\n",
       "\n",
       "    .dataframe tbody tr th {\n",
       "        vertical-align: top;\n",
       "    }\n",
       "\n",
       "    .dataframe thead th {\n",
       "        text-align: right;\n",
       "    }\n",
       "</style>\n",
       "<table border=\"1\" class=\"dataframe\">\n",
       "  <thead>\n",
       "    <tr style=\"text-align: right;\">\n",
       "      <th></th>\n",
       "      <th>count</th>\n",
       "      <th>mean</th>\n",
       "      <th>std</th>\n",
       "      <th>min</th>\n",
       "      <th>25%</th>\n",
       "      <th>50%</th>\n",
       "      <th>75%</th>\n",
       "      <th>max</th>\n",
       "    </tr>\n",
       "  </thead>\n",
       "  <tbody>\n",
       "    <tr>\n",
       "      <th>Integer_Year</th>\n",
       "      <td>279.0</td>\n",
       "      <td>13.663082</td>\n",
       "      <td>6.832616</td>\n",
       "      <td>2.000000</td>\n",
       "      <td>8.000000</td>\n",
       "      <td>14.000000</td>\n",
       "      <td>20.000000</td>\n",
       "      <td>25.000000</td>\n",
       "    </tr>\n",
       "    <tr>\n",
       "      <th>Median Market Value (Single Family)</th>\n",
       "      <td>279.0</td>\n",
       "      <td>125948.107527</td>\n",
       "      <td>44433.749951</td>\n",
       "      <td>70944.000000</td>\n",
       "      <td>87312.000000</td>\n",
       "      <td>113300.000000</td>\n",
       "      <td>162344.000000</td>\n",
       "      <td>248645.000000</td>\n",
       "    </tr>\n",
       "    <tr>\n",
       "      <th>Median List Price per SqFt Calculated</th>\n",
       "      <td>279.0</td>\n",
       "      <td>85.699970</td>\n",
       "      <td>31.720591</td>\n",
       "      <td>12.289483</td>\n",
       "      <td>67.335166</td>\n",
       "      <td>77.745670</td>\n",
       "      <td>92.222529</td>\n",
       "      <td>206.825441</td>\n",
       "    </tr>\n",
       "    <tr>\n",
       "      <th>Median List Price Calculated</th>\n",
       "      <td>279.0</td>\n",
       "      <td>116476.250834</td>\n",
       "      <td>42457.013772</td>\n",
       "      <td>37866.494919</td>\n",
       "      <td>88085.783506</td>\n",
       "      <td>106906.415116</td>\n",
       "      <td>131721.867986</td>\n",
       "      <td>270719.672053</td>\n",
       "    </tr>\n",
       "    <tr>\n",
       "      <th>46219</th>\n",
       "      <td>279.0</td>\n",
       "      <td>0.336918</td>\n",
       "      <td>0.473506</td>\n",
       "      <td>0.000000</td>\n",
       "      <td>0.000000</td>\n",
       "      <td>0.000000</td>\n",
       "      <td>1.000000</td>\n",
       "      <td>1.000000</td>\n",
       "    </tr>\n",
       "    <tr>\n",
       "      <th>46220</th>\n",
       "      <td>279.0</td>\n",
       "      <td>0.347670</td>\n",
       "      <td>0.477086</td>\n",
       "      <td>0.000000</td>\n",
       "      <td>0.000000</td>\n",
       "      <td>0.000000</td>\n",
       "      <td>1.000000</td>\n",
       "      <td>1.000000</td>\n",
       "    </tr>\n",
       "    <tr>\n",
       "      <th>46227</th>\n",
       "      <td>279.0</td>\n",
       "      <td>0.315412</td>\n",
       "      <td>0.465515</td>\n",
       "      <td>0.000000</td>\n",
       "      <td>0.000000</td>\n",
       "      <td>0.000000</td>\n",
       "      <td>1.000000</td>\n",
       "      <td>1.000000</td>\n",
       "    </tr>\n",
       "    <tr>\n",
       "      <th>1 Bedroom</th>\n",
       "      <td>279.0</td>\n",
       "      <td>0.218638</td>\n",
       "      <td>0.414065</td>\n",
       "      <td>0.000000</td>\n",
       "      <td>0.000000</td>\n",
       "      <td>0.000000</td>\n",
       "      <td>0.000000</td>\n",
       "      <td>1.000000</td>\n",
       "    </tr>\n",
       "    <tr>\n",
       "      <th>2 Bedroom</th>\n",
       "      <td>279.0</td>\n",
       "      <td>0.175627</td>\n",
       "      <td>0.381186</td>\n",
       "      <td>0.000000</td>\n",
       "      <td>0.000000</td>\n",
       "      <td>0.000000</td>\n",
       "      <td>0.000000</td>\n",
       "      <td>1.000000</td>\n",
       "    </tr>\n",
       "    <tr>\n",
       "      <th>3 Bedroom</th>\n",
       "      <td>279.0</td>\n",
       "      <td>0.204301</td>\n",
       "      <td>0.403914</td>\n",
       "      <td>0.000000</td>\n",
       "      <td>0.000000</td>\n",
       "      <td>0.000000</td>\n",
       "      <td>0.000000</td>\n",
       "      <td>1.000000</td>\n",
       "    </tr>\n",
       "    <tr>\n",
       "      <th>4 Bedroom</th>\n",
       "      <td>279.0</td>\n",
       "      <td>0.200717</td>\n",
       "      <td>0.401256</td>\n",
       "      <td>0.000000</td>\n",
       "      <td>0.000000</td>\n",
       "      <td>0.000000</td>\n",
       "      <td>0.000000</td>\n",
       "      <td>1.000000</td>\n",
       "    </tr>\n",
       "    <tr>\n",
       "      <th>5 Bedroom</th>\n",
       "      <td>279.0</td>\n",
       "      <td>0.200717</td>\n",
       "      <td>0.401256</td>\n",
       "      <td>0.000000</td>\n",
       "      <td>0.000000</td>\n",
       "      <td>0.000000</td>\n",
       "      <td>0.000000</td>\n",
       "      <td>1.000000</td>\n",
       "    </tr>\n",
       "  </tbody>\n",
       "</table>\n",
       "</div>"
      ],
      "text/plain": [
       "                                       count           mean           std  \\\n",
       "Integer_Year                           279.0      13.663082      6.832616   \n",
       "Median Market Value (Single Family)    279.0  125948.107527  44433.749951   \n",
       "Median List Price per SqFt Calculated  279.0      85.699970     31.720591   \n",
       "Median List Price Calculated           279.0  116476.250834  42457.013772   \n",
       "46219                                  279.0       0.336918      0.473506   \n",
       "46220                                  279.0       0.347670      0.477086   \n",
       "46227                                  279.0       0.315412      0.465515   \n",
       "1 Bedroom                              279.0       0.218638      0.414065   \n",
       "2 Bedroom                              279.0       0.175627      0.381186   \n",
       "3 Bedroom                              279.0       0.204301      0.403914   \n",
       "4 Bedroom                              279.0       0.200717      0.401256   \n",
       "5 Bedroom                              279.0       0.200717      0.401256   \n",
       "\n",
       "                                                min           25%  \\\n",
       "Integer_Year                               2.000000      8.000000   \n",
       "Median Market Value (Single Family)    70944.000000  87312.000000   \n",
       "Median List Price per SqFt Calculated     12.289483     67.335166   \n",
       "Median List Price Calculated           37866.494919  88085.783506   \n",
       "46219                                      0.000000      0.000000   \n",
       "46220                                      0.000000      0.000000   \n",
       "46227                                      0.000000      0.000000   \n",
       "1 Bedroom                                  0.000000      0.000000   \n",
       "2 Bedroom                                  0.000000      0.000000   \n",
       "3 Bedroom                                  0.000000      0.000000   \n",
       "4 Bedroom                                  0.000000      0.000000   \n",
       "5 Bedroom                                  0.000000      0.000000   \n",
       "\n",
       "                                                 50%            75%  \\\n",
       "Integer_Year                               14.000000      20.000000   \n",
       "Median Market Value (Single Family)    113300.000000  162344.000000   \n",
       "Median List Price per SqFt Calculated      77.745670      92.222529   \n",
       "Median List Price Calculated           106906.415116  131721.867986   \n",
       "46219                                       0.000000       1.000000   \n",
       "46220                                       0.000000       1.000000   \n",
       "46227                                       0.000000       1.000000   \n",
       "1 Bedroom                                   0.000000       0.000000   \n",
       "2 Bedroom                                   0.000000       0.000000   \n",
       "3 Bedroom                                   0.000000       0.000000   \n",
       "4 Bedroom                                   0.000000       0.000000   \n",
       "5 Bedroom                                   0.000000       0.000000   \n",
       "\n",
       "                                                 max  \n",
       "Integer_Year                               25.000000  \n",
       "Median Market Value (Single Family)    248645.000000  \n",
       "Median List Price per SqFt Calculated     206.825441  \n",
       "Median List Price Calculated           270719.672053  \n",
       "46219                                       1.000000  \n",
       "46220                                       1.000000  \n",
       "46227                                       1.000000  \n",
       "1 Bedroom                                   1.000000  \n",
       "2 Bedroom                                   1.000000  \n",
       "3 Bedroom                                   1.000000  \n",
       "4 Bedroom                                   1.000000  \n",
       "5 Bedroom                                   1.000000  "
      ]
     },
     "execution_count": 82,
     "metadata": {},
     "output_type": "execute_result"
    }
   ],
   "source": [
    "train_stats = train_dataset.describe()\n",
    "train_stats.pop(\"Median Bedroom Price\")\n",
    "train_stats = train_stats.transpose()\n",
    "train_stats"
   ]
  },
  {
   "cell_type": "code",
   "execution_count": 83,
   "metadata": {},
   "outputs": [],
   "source": [
    "train_labels = train_dataset.pop('Median Bedroom Price')\n",
    "test_labels = test_dataset.pop('Median Bedroom Price')"
   ]
  },
  {
   "cell_type": "code",
   "execution_count": 84,
   "metadata": {},
   "outputs": [],
   "source": [
    "def norm(x):\n",
    "  return (x - train_stats['mean']) / train_stats['std']\n",
    "normed_train_data = norm(train_dataset)\n",
    "normed_test_data = norm(test_dataset)"
   ]
  },
  {
   "cell_type": "code",
   "execution_count": 85,
   "metadata": {},
   "outputs": [],
   "source": [
    "def build_model():\n",
    "  model = keras.Sequential([\n",
    "    layers.Dense(64, activation='relu', input_shape=[len(train_dataset.keys())]),\n",
    "    layers.Dense(64, activation='relu'),\n",
    "    layers.Dense(1)\n",
    "  ])\n",
    "\n",
    "  optimizer = tf.keras.optimizers.RMSprop(0.001)\n",
    "\n",
    "  model.compile(loss='mse',\n",
    "                optimizer=optimizer,\n",
    "                metrics=['mae', 'mse'])\n",
    "  return model"
   ]
  },
  {
   "cell_type": "code",
   "execution_count": 86,
   "metadata": {},
   "outputs": [],
   "source": [
    "model = build_model()"
   ]
  },
  {
   "cell_type": "code",
   "execution_count": 87,
   "metadata": {},
   "outputs": [
    {
     "name": "stdout",
     "output_type": "stream",
     "text": [
      "Model: \"sequential\"\n",
      "_________________________________________________________________\n",
      "Layer (type)                 Output Shape              Param #   \n",
      "=================================================================\n",
      "dense (Dense)                (None, 64)                832       \n",
      "_________________________________________________________________\n",
      "dense_1 (Dense)              (None, 64)                4160      \n",
      "_________________________________________________________________\n",
      "dense_2 (Dense)              (None, 1)                 65        \n",
      "=================================================================\n",
      "Total params: 5,057\n",
      "Trainable params: 5,057\n",
      "Non-trainable params: 0\n",
      "_________________________________________________________________\n"
     ]
    }
   ],
   "source": [
    "model.summary()"
   ]
  },
  {
   "cell_type": "code",
   "execution_count": 88,
   "metadata": {
    "scrolled": true
   },
   "outputs": [
    {
     "name": "stdout",
     "output_type": "stream",
     "text": [
      "WARNING:tensorflow:Falling back from v2 loop because of error: Failed to find data adapter that can handle input: <class 'pandas.core.frame.DataFrame'>, <class 'NoneType'>\n"
     ]
    },
    {
     "data": {
      "text/plain": [
       "array([[ 0.5077102 ],\n",
       "       [ 0.63883734],\n",
       "       [ 0.3566193 ],\n",
       "       [ 0.8719171 ],\n",
       "       [ 0.47794634],\n",
       "       [ 0.45306146],\n",
       "       [ 0.47552344],\n",
       "       [ 0.7702321 ],\n",
       "       [ 0.75491   ],\n",
       "       [-0.15709805]], dtype=float32)"
      ]
     },
     "execution_count": 88,
     "metadata": {},
     "output_type": "execute_result"
    }
   ],
   "source": [
    "example_batch = normed_train_data[:10]\n",
    "example_result = model.predict(example_batch)\n",
    "example_result\n"
   ]
  },
  {
   "cell_type": "code",
   "execution_count": null,
   "metadata": {},
   "outputs": [],
   "source": []
  },
  {
   "cell_type": "code",
   "execution_count": 99,
   "metadata": {},
   "outputs": [
    {
     "name": "stdout",
     "output_type": "stream",
     "text": [
      "WARNING:tensorflow:Falling back from v2 loop because of error: Failed to find data adapter that can handle input: <class 'pandas.core.frame.DataFrame'>, <class 'NoneType'>\n",
      "\n",
      "Epoch: 0, loss:10867150696.4664,  mae:93246.8516,  mse:10867150848.0000,  val_loss:13402274523.4286,  val_mae:102252.6797,  val_mse:13402274816.0000,  \n",
      "....................................................................................................\n",
      "Epoch: 100, loss:2912190196.5202,  mae:49092.5469,  mse:2912190208.0000,  val_loss:3480107885.7143,  val_mae:51873.3984,  val_mse:3480107776.0000,  \n",
      "....................................................................................................\n",
      "Epoch: 200, loss:985441628.4126,  mae:24752.3066,  mse:985441600.0000,  val_loss:1612935881.1429,  val_mae:30179.5840,  val_mse:1612935936.0000,  \n",
      "....................................................................................................\n",
      "Epoch: 300, loss:620022532.5919,  mae:19491.3730,  mse:620022528.0000,  val_loss:1034848841.1429,  val_mae:23573.4570,  val_mse:1034848832.0000,  \n",
      "....................................................................................................\n",
      "Epoch: 400, loss:378502446.8520,  mae:14987.1367,  mse:378502432.0000,  val_loss:622078171.4286,  val_mae:18377.4551,  val_mse:622078144.0000,  \n",
      "....................................................................................................\n",
      "Epoch: 500, loss:235696216.8969,  mae:11571.4043,  mse:235696224.0000,  val_loss:380776886.8571,  val_mae:14539.0830,  val_mse:380776896.0000,  \n",
      "....................................................................................................\n",
      "Epoch: 600, loss:163893992.3946,  mae:9380.4307,  mse:163893984.0000,  val_loss:255465654.8571,  val_mae:11890.6338,  val_mse:255465648.0000,  \n",
      "....................................................................................................\n",
      "Epoch: 700, loss:126498792.9686,  mae:8120.0688,  mse:126498800.0000,  val_loss:189813666.2857,  val_mae:10266.5020,  val_mse:189813664.0000,  \n",
      "....................................................................................................\n",
      "Epoch: 800, loss:105241790.3139,  mae:7326.5913,  mse:105241792.0000,  val_loss:157601754.2857,  val_mae:9144.3408,  val_mse:157601760.0000,  \n",
      "....................................................................................................\n",
      "Epoch: 900, loss:91416763.0673,  mae:6729.6929,  mse:91416768.0000,  val_loss:138214072.0000,  val_mae:8394.7656,  val_mse:138214064.0000,  \n",
      "...................................................................................................."
     ]
    }
   ],
   "source": [
    "EPOCHS = 1000\n",
    "\n",
    "history = model.fit(\n",
    "  normed_train_data, train_labels,\n",
    "  epochs=EPOCHS, validation_split = 0.2, verbose=0,\n",
    "  callbacks=[tfdocs.modeling.EpochDots()])"
   ]
  },
  {
   "cell_type": "code",
   "execution_count": 109,
   "metadata": {},
   "outputs": [
    {
     "name": "stdout",
     "output_type": "stream",
     "text": [
      "10867150848.0\n"
     ]
    }
   ],
   "source": [
    "hist = pd.DataFrame(history.history)\n",
    "hist['epoch'] = history.epoch\n",
    "hist.tail()\n",
    "print(hist[\"mse\"].max())"
   ]
  },
  {
   "cell_type": "code",
   "execution_count": 102,
   "metadata": {},
   "outputs": [],
   "source": [
    "plotter = tfdocs.plots.HistoryPlotter(smoothing_std=2)"
   ]
  },
  {
   "cell_type": "code",
   "execution_count": 106,
   "metadata": {},
   "outputs": [
    {
     "data": {
      "text/plain": [
       "Text(0, 0.5, 'MAE [Median Bedroom Price]')"
      ]
     },
     "execution_count": 106,
     "metadata": {},
     "output_type": "execute_result"
    },
    {
     "data": {
      "image/png": "[encoded data removed]",
      "text/plain": [
       "<Figure size 432x288 with 1 Axes>"
      ]
     },
     "metadata": {
      "needs_background": "light"
     },
     "output_type": "display_data"
    }
   ],
   "source": [
    "plotter.plot({'Basic': history}, metric = \"mae\")\n",
    "plt.ylim([0, 100000])\n",
    "plt.ylabel('MAE [Median Bedroom Price]')"
   ]
  },
  {
   "cell_type": "code",
   "execution_count": 112,
   "metadata": {
    "scrolled": false
   },
   "outputs": [
    {
     "data": {
      "text/plain": [
       "Text(0, 0.5, 'MSE [Median Bedroom Price]')"
      ]
     },
     "execution_count": 112,
     "metadata": {},
     "output_type": "execute_result"
    },
    {
     "data": {
      "image/png": "[encoded data removed]",
      "text/plain": [
       "<Figure size 432x288 with 1 Axes>"
      ]
     },
     "metadata": {
      "needs_background": "light"
     },
     "output_type": "display_data"
    }
   ],
   "source": [
    "plotter.plot({'Basic': history}, metric = \"mse\")\n",
    "plt.ylim([0, 10000000000])\n",
    "plt.ylabel('MSE [Median Bedroom Price]')"
   ]
  },
  {
   "cell_type": "code",
   "execution_count": 113,
   "metadata": {},
   "outputs": [
    {
     "name": "stdout",
     "output_type": "stream",
     "text": [
      "WARNING:tensorflow:Falling back from v2 loop because of error: Failed to find data adapter that can handle input: <class 'pandas.core.frame.DataFrame'>, <class 'NoneType'>\n",
      "70/70 - 0s - loss: 129511192.6857 - mae: 7860.6582 - mse: 129511192.0000\n",
      "Testing set Mean Abs Error: 7860.66 MPG\n"
     ]
    }
   ],
   "source": [
    "loss, mae, mse = model.evaluate(normed_test_data, test_labels, verbose=2)\n",
    "\n",
    "print(\"Testing set Mean Abs Error: {:5.2f} \".format(mae))"
   ]
  },
  {
   "cell_type": "code",
   "execution_count": 117,
   "metadata": {
    "scrolled": true
   },
   "outputs": [
    {
     "name": "stdout",
     "output_type": "stream",
     "text": [
      "WARNING:tensorflow:Falling back from v2 loop because of error: Failed to find data adapter that can handle input: <class 'pandas.core.frame.DataFrame'>, <class 'NoneType'>\n"
     ]
    },
    {
     "data": {
      "image/png": "[encoded data removed]",
      "text/plain": [
       "<Figure size 432x288 with 1 Axes>"
      ]
     },
     "metadata": {
      "needs_background": "light"
     },
     "output_type": "display_data"
    }
   ],
   "source": [
    "test_predictions = model.predict(normed_test_data).flatten()\n",
    "\n",
    "a = plt.axes(aspect='equal')\n",
    "plt.scatter(test_labels, test_predictions)\n",
    "plt.xlabel('True Values [Median Bedroom Price]')\n",
    "plt.ylabel('Predictions [Median Bedroom Price]')\n",
    "lims = [0, 500000]\n",
    "plt.xlim(lims)\n",
    "plt.ylim(lims)\n",
    "_ = plt.plot(lims, lims)"
   ]
  },
  {
   "cell_type": "code",
   "execution_count": 119,
   "metadata": {
    "scrolled": true
   },
   "outputs": [
    {
     "data": {
      "text/plain": [
       "array([327799.62 , 214271.11 , 211157.61 , 227640.64 , 234714.05 ,\n",
       "       248525.3  , 245381.17 , 272315.62 , 352021.53 , 144406.83 ,\n",
       "       163546.2  , 252322.11 , 117526.4  , 143708.86 , 143450.42 ,\n",
       "       143251.64 , 151130.08 , 175593.33 ,  91353.7  , 111692.305,\n",
       "       142718.02 , 176029.8  , 211699.02 , 119924.88 , 132676.72 ,\n",
       "       126195.54 , 108968.945, 115045.12 , 147214.3  ,  83339.49 ,\n",
       "        84003.414,  86339.52 ,  85728.99 ,  90844.44 , 100201.28 ,\n",
       "        76916.586,  76582.46 ,  76012.88 ,  75502.83 ,  74380.125,\n",
       "        74018.85 ,  73671.24 , 160878.66 , 154576.33 , 152794.58 ,\n",
       "       210674.17 , 118084.02 , 131520.98 , 131061.99 , 131230.47 ,\n",
       "       152459.95 ,  90354.49 , 104648.89 , 111326.43 , 113709.805,\n",
       "       112655.38 , 143133.38 ,  78001.69 ,  76543.29 ,  76255.04 ,\n",
       "        75977.71 ,  75440.43 ,  74994.57 ,  75058.29 ,  77832.62 ,\n",
       "        81530.58 ,  85019.086,  59927.277,  60673.184,  78124.76 ],\n",
       "      dtype=float32)"
      ]
     },
     "execution_count": 119,
     "metadata": {},
     "output_type": "execute_result"
    }
   ],
   "source": [
    "test_predictions"
   ]
  },
  {
   "cell_type": "code",
   "execution_count": null,
   "metadata": {},
   "outputs": [],
   "source": []
  },
  {
   "cell_type": "code",
   "execution_count": 118,
   "metadata": {},
   "outputs": [
    {
     "data": {
      "image/png": "[encoded data removed]",
      "text/plain": [
       "<Figure size 432x288 with 1 Axes>"
      ]
     },
     "metadata": {
      "needs_background": "light"
     },
     "output_type": "display_data"
    }
   ],
   "source": [
    "error = test_predictions - test_labels\n",
    "plt.hist(error, bins = 25)\n",
    "plt.xlabel(\"Prediction Error [Median Bedroom Price]\")\n",
    "_ = plt.ylabel(\"Count\")"
   ]
  },
  {
   "cell_type": "code",
   "execution_count": null,
   "metadata": {},
   "outputs": [],
   "source": []
  }
 ],
 "metadata": {
  "kernelspec": {
   "display_name": "Python [conda env:PythonData] *",
   "language": "python",
   "name": "conda-env-PythonData-py"
  },
  "language_info": {
   "codemirror_mode": {
    "name": "ipython",
    "version": 3
   },
   "file_extension": ".py",
   "mimetype": "text/x-python",
   "name": "python",
   "nbconvert_exporter": "python",
   "pygments_lexer": "ipython3",
   "version": "3.7.5"
  }
 },
 "nbformat": 4,
 "nbformat_minor": 2
}
