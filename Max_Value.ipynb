{
 "cells": [
  {
   "cell_type": "code",
   "execution_count": 8,
   "metadata": {},
   "outputs": [],
   "source": [
    "import pickle\n",
    "import pandas as pd\n",
    "housing_df_nonan = pd.read_pickle(\"housing_df_nonan.pkl\")"
   ]
  },
  {
   "cell_type": "code",
   "execution_count": 9,
   "metadata": {},
   "outputs": [
    {
     "data": {
      "text/plain": [
       "array(['2010-09-30', '2010-10-31', '2010-11-30', '2010-12-31',\n",
       "       '2011-01-31', '2011-02-28', '2011-03-31', '2011-04-30',\n",
       "       '2011-05-31', '2011-06-30', '2011-07-31', '2011-08-31',\n",
       "       '2011-09-30', '2011-10-31', '2011-11-30', '2011-12-31',\n",
       "       '2012-01-31', '2012-02-29', '2012-03-31', '2012-04-30',\n",
       "       '2012-05-31', '2012-06-30', '2012-07-31', '2012-08-31',\n",
       "       '2012-09-30', '2012-10-31', '2012-11-30', '2012-12-31',\n",
       "       '2013-01-31', '2013-02-28', '2013-03-31', '2013-04-30',\n",
       "       '2013-05-31', '2013-06-30', '2013-07-31', '2013-08-31',\n",
       "       '2013-09-30', '2013-10-31', '2013-11-30', '2013-12-31',\n",
       "       '2014-01-31', '2014-02-28', '2014-03-31', '2014-04-30',\n",
       "       '2014-05-31', '2014-06-30', '2014-07-31', '2014-08-31',\n",
       "       '2014-09-30', '2014-10-31', '2014-11-30', '2014-12-31',\n",
       "       '2015-01-31', '2015-02-28', '2015-03-31', '2015-04-30',\n",
       "       '2015-05-31', '2015-06-30', '2015-07-31', '2015-08-31',\n",
       "       '2015-09-30', '2015-10-31', '2015-11-30', '2015-12-31',\n",
       "       '2016-01-31', '2016-02-29', '2016-03-31', '2016-04-30',\n",
       "       '2016-05-31', '2016-06-30'], dtype=object)"
      ]
     },
     "execution_count": 9,
     "metadata": {},
     "output_type": "execute_result"
    }
   ],
   "source": [
    "housing_df_nonan.Date.unique()"
   ]
  },
  {
   "cell_type": "code",
   "execution_count": 11,
   "metadata": {},
   "outputs": [],
   "source": [
    "housing_df_nonan['Year'] = housing_df_nonan.Date.apply(lambda x: x[:4])\n",
    "housing_df_nonan['Month'] = housing_df_nonan.Date.apply(lambda x: x[5:7])"
   ]
  },
  {
   "cell_type": "code",
   "execution_count": 12,
   "metadata": {},
   "outputs": [],
   "source": [
    "housing_df_max = housing_df_nonan.loc[housing_df_nonan['Year'] == '2016']\n",
    "#housing_df_nonan.head()"
   ]
  },
  {
   "cell_type": "code",
   "execution_count": 13,
   "metadata": {},
   "outputs": [
    {
     "data": {
      "text/plain": [
       "Date                                   165\n",
       "% of Homes Decreasing in Value         165\n",
       "% of Homes Increasing in Value         165\n",
       "% of Listings with Price Reduction     165\n",
       "Median % Reduction                     165\n",
       "Median List Price                      165\n",
       "Median List Price per Square Foot      165\n",
       "Median Market Value (Single Family)    165\n",
       "Median Price 1 Bedroom                 165\n",
       "Median Price 2 Bedroom                 165\n",
       "Median Price 3 Bedroom                 165\n",
       "Median Price 4 Bedroom                 165\n",
       "Median Price 5 Bedroom                 165\n",
       "Sales per Month                        165\n",
       "Zip_Code                               165\n",
       "Year                                   165\n",
       "Month                                  165\n",
       "dtype: int64"
      ]
     },
     "execution_count": 13,
     "metadata": {},
     "output_type": "execute_result"
    }
   ],
   "source": [
    "housing_df_max.count()"
   ]
  },
  {
   "cell_type": "code",
   "execution_count": 14,
   "metadata": {},
   "outputs": [],
   "source": [
    "housing_df_max = housing_df_max.reset_index(drop=True) "
   ]
  },
  {
   "cell_type": "code",
   "execution_count": 20,
   "metadata": {},
   "outputs": [],
   "source": [
    "housing_df_predictor = housing_df_max.drop(['Date',\n",
    "                                            '% of Homes Decreasing in Value', \n",
    "                                            '% of Homes Increasing in Value',\n",
    "                                            '% of Listings with Price Reduction',\n",
    "                                            'Median % Reduction',\n",
    "                                            'Median Market Value (Single Family)',\n",
    "                                            'Sales per Month',\n",
    "                                            'Year'], axis=1)"
   ]
  },
  {
   "cell_type": "code",
   "execution_count": 22,
   "metadata": {},
   "outputs": [],
   "source": [
    "housing_df_predictor['Zip_Code'] = housing_df_predictor['Zip_Code'].astype(str)"
   ]
  },
  {
   "cell_type": "code",
   "execution_count": 23,
   "metadata": {},
   "outputs": [],
   "source": [
    "housing_df_predictor.to_json('static/js/housing_df_predictor.js', 'records')"
   ]
  },
  {
   "cell_type": "code",
   "execution_count": 7,
   "metadata": {},
   "outputs": [],
   "source": [
    "housing_df_max.columns = ['Date','PctDecrease','PctIncrease','PriceReduction', 'PctReduction', 'ListPriceMedian','LPSFMedian', 'MarketValueMedian','Median1Br', 'Median2Br', 'Median3Br', 'Median4Br', 'Median5Br', 'PerMonthSales', 'ZipCode']"
   ]
  },
  {
   "cell_type": "code",
   "execution_count": 8,
   "metadata": {},
   "outputs": [],
   "source": [
    "housing_df_max.to_json('housing_df_predictor.json')"
   ]
  },
  {
   "cell_type": "code",
   "execution_count": null,
   "metadata": {},
   "outputs": [],
   "source": []
  }
 ],
 "metadata": {
  "kernelspec": {
   "display_name": "Python 3",
   "language": "python",
   "name": "python3"
  },
  "language_info": {
   "codemirror_mode": {
    "name": "ipython",
    "version": 3
   },
   "file_extension": ".py",
   "mimetype": "text/x-python",
   "name": "python",
   "nbconvert_exporter": "python",
   "pygments_lexer": "ipython3",
   "version": "3.7.6"
  }
 },
 "nbformat": 4,
 "nbformat_minor": 4
}
