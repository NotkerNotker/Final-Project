{
 "cells": [
  {
   "cell_type": "code",
   "execution_count": 1,
   "metadata": {},
   "outputs": [],
   "source": [
    "import csv\n",
    "import pandas as pd"
   ]
  },
  {
   "cell_type": "code",
   "execution_count": 23,
   "metadata": {},
   "outputs": [
    {
     "data": {
      "text/html": [
       "<div>\n",
       "<style scoped>\n",
       "    .dataframe tbody tr th:only-of-type {\n",
       "        vertical-align: middle;\n",
       "    }\n",
       "\n",
       "    .dataframe tbody tr th {\n",
       "        vertical-align: top;\n",
       "    }\n",
       "\n",
       "    .dataframe thead th {\n",
       "        text-align: right;\n",
       "    }\n",
       "</style>\n",
       "<table border=\"1\" class=\"dataframe\">\n",
       "  <thead>\n",
       "    <tr style=\"text-align: right;\">\n",
       "      <th></th>\n",
       "      <th>Date</th>\n",
       "      <th>% of Homes Decreasing in Value</th>\n",
       "      <th>% of Homes Increasing in Value</th>\n",
       "      <th>% of Listings with Price Reduction</th>\n",
       "      <th>Median % Reduction</th>\n",
       "      <th>Median List Price</th>\n",
       "      <th>Median List Price per Square Foot</th>\n",
       "      <th>Median Market Value (Single Family)</th>\n",
       "      <th>Median Price 1 Bedroom</th>\n",
       "      <th>Median Price 2 Bedroom</th>\n",
       "      <th>Median Price 3 Bedroom</th>\n",
       "      <th>Median Price 4 Bedroom</th>\n",
       "      <th>Median Price 5 Bedroom</th>\n",
       "      <th>Sales per Month</th>\n",
       "      <th>Zip_Code</th>\n",
       "    </tr>\n",
       "  </thead>\n",
       "  <tbody>\n",
       "    <tr>\n",
       "      <th>0</th>\n",
       "      <td>1996-04-30</td>\n",
       "      <td>NaN</td>\n",
       "      <td>NaN</td>\n",
       "      <td>NaN</td>\n",
       "      <td>NaN</td>\n",
       "      <td>NaN</td>\n",
       "      <td>NaN</td>\n",
       "      <td>93800.0</td>\n",
       "      <td>NaN</td>\n",
       "      <td>86600.0</td>\n",
       "      <td>90600.0</td>\n",
       "      <td>113100.0</td>\n",
       "      <td>NaN</td>\n",
       "      <td>NaN</td>\n",
       "      <td>46107</td>\n",
       "    </tr>\n",
       "    <tr>\n",
       "      <th>1</th>\n",
       "      <td>1996-05-31</td>\n",
       "      <td>NaN</td>\n",
       "      <td>NaN</td>\n",
       "      <td>NaN</td>\n",
       "      <td>NaN</td>\n",
       "      <td>NaN</td>\n",
       "      <td>NaN</td>\n",
       "      <td>92100.0</td>\n",
       "      <td>NaN</td>\n",
       "      <td>85400.0</td>\n",
       "      <td>89300.0</td>\n",
       "      <td>111900.0</td>\n",
       "      <td>NaN</td>\n",
       "      <td>NaN</td>\n",
       "      <td>46107</td>\n",
       "    </tr>\n",
       "    <tr>\n",
       "      <th>2</th>\n",
       "      <td>1996-06-30</td>\n",
       "      <td>NaN</td>\n",
       "      <td>NaN</td>\n",
       "      <td>NaN</td>\n",
       "      <td>NaN</td>\n",
       "      <td>NaN</td>\n",
       "      <td>NaN</td>\n",
       "      <td>90300.0</td>\n",
       "      <td>NaN</td>\n",
       "      <td>84100.0</td>\n",
       "      <td>87900.0</td>\n",
       "      <td>110900.0</td>\n",
       "      <td>NaN</td>\n",
       "      <td>NaN</td>\n",
       "      <td>46107</td>\n",
       "    </tr>\n",
       "    <tr>\n",
       "      <th>3</th>\n",
       "      <td>1996-07-31</td>\n",
       "      <td>NaN</td>\n",
       "      <td>NaN</td>\n",
       "      <td>NaN</td>\n",
       "      <td>NaN</td>\n",
       "      <td>NaN</td>\n",
       "      <td>NaN</td>\n",
       "      <td>88400.0</td>\n",
       "      <td>NaN</td>\n",
       "      <td>82800.0</td>\n",
       "      <td>86500.0</td>\n",
       "      <td>109800.0</td>\n",
       "      <td>NaN</td>\n",
       "      <td>NaN</td>\n",
       "      <td>46107</td>\n",
       "    </tr>\n",
       "    <tr>\n",
       "      <th>4</th>\n",
       "      <td>1996-08-31</td>\n",
       "      <td>NaN</td>\n",
       "      <td>NaN</td>\n",
       "      <td>NaN</td>\n",
       "      <td>NaN</td>\n",
       "      <td>NaN</td>\n",
       "      <td>NaN</td>\n",
       "      <td>86500.0</td>\n",
       "      <td>NaN</td>\n",
       "      <td>81500.0</td>\n",
       "      <td>85200.0</td>\n",
       "      <td>108800.0</td>\n",
       "      <td>NaN</td>\n",
       "      <td>NaN</td>\n",
       "      <td>46107</td>\n",
       "    </tr>\n",
       "  </tbody>\n",
       "</table>\n",
       "</div>"
      ],
      "text/plain": [
       "         Date  % of Homes Decreasing in Value  % of Homes Increasing in Value  \\\n",
       "0  1996-04-30                             NaN                             NaN   \n",
       "1  1996-05-31                             NaN                             NaN   \n",
       "2  1996-06-30                             NaN                             NaN   \n",
       "3  1996-07-31                             NaN                             NaN   \n",
       "4  1996-08-31                             NaN                             NaN   \n",
       "\n",
       "   % of Listings with Price Reduction  Median % Reduction  Median List Price  \\\n",
       "0                                 NaN                 NaN                NaN   \n",
       "1                                 NaN                 NaN                NaN   \n",
       "2                                 NaN                 NaN                NaN   \n",
       "3                                 NaN                 NaN                NaN   \n",
       "4                                 NaN                 NaN                NaN   \n",
       "\n",
       "   Median List Price per Square Foot  Median Market Value (Single Family)  \\\n",
       "0                                NaN                              93800.0   \n",
       "1                                NaN                              92100.0   \n",
       "2                                NaN                              90300.0   \n",
       "3                                NaN                              88400.0   \n",
       "4                                NaN                              86500.0   \n",
       "\n",
       "   Median Price 1 Bedroom  Median Price 2 Bedroom  Median Price 3 Bedroom  \\\n",
       "0                     NaN                 86600.0                 90600.0   \n",
       "1                     NaN                 85400.0                 89300.0   \n",
       "2                     NaN                 84100.0                 87900.0   \n",
       "3                     NaN                 82800.0                 86500.0   \n",
       "4                     NaN                 81500.0                 85200.0   \n",
       "\n",
       "   Median Price 4 Bedroom  Median Price 5 Bedroom  Sales per Month  Zip_Code  \n",
       "0                113100.0                     NaN              NaN     46107  \n",
       "1                111900.0                     NaN              NaN     46107  \n",
       "2                110900.0                     NaN              NaN     46107  \n",
       "3                109800.0                     NaN              NaN     46107  \n",
       "4                108800.0                     NaN              NaN     46107  "
      ]
     },
     "execution_count": 23,
     "metadata": {},
     "output_type": "execute_result"
    }
   ],
   "source": [
    "housing_data = pd.read_csv(\"Indianapolis_Housing_Data.csv\")\n",
    "housing_data.head()"
   ]
  },
  {
   "cell_type": "code",
   "execution_count": 24,
   "metadata": {},
   "outputs": [
    {
     "data": {
      "text/html": [
       "<div>\n",
       "<style scoped>\n",
       "    .dataframe tbody tr th:only-of-type {\n",
       "        vertical-align: middle;\n",
       "    }\n",
       "\n",
       "    .dataframe tbody tr th {\n",
       "        vertical-align: top;\n",
       "    }\n",
       "\n",
       "    .dataframe thead th {\n",
       "        text-align: right;\n",
       "    }\n",
       "</style>\n",
       "<table border=\"1\" class=\"dataframe\">\n",
       "  <thead>\n",
       "    <tr style=\"text-align: right;\">\n",
       "      <th></th>\n",
       "      <th>Date</th>\n",
       "      <th>% of Homes Decreasing in Value</th>\n",
       "      <th>% of Homes Increasing in Value</th>\n",
       "      <th>% of Listings with Price Reduction</th>\n",
       "      <th>Median % Reduction</th>\n",
       "      <th>Median List Price</th>\n",
       "      <th>Median List Price per Square Foot</th>\n",
       "      <th>Median Market Value (Single Family)</th>\n",
       "      <th>Median Price 1 Bedroom</th>\n",
       "      <th>Median Price 2 Bedroom</th>\n",
       "      <th>Median Price 3 Bedroom</th>\n",
       "      <th>Median Price 4 Bedroom</th>\n",
       "      <th>Median Price 5 Bedroom</th>\n",
       "      <th>Sales per Month</th>\n",
       "      <th>Zip_Code</th>\n",
       "    </tr>\n",
       "  </thead>\n",
       "  <tbody>\n",
       "    <tr>\n",
       "      <th>0</th>\n",
       "      <td>1996-04-30</td>\n",
       "      <td>NaN</td>\n",
       "      <td>NaN</td>\n",
       "      <td>NaN</td>\n",
       "      <td>NaN</td>\n",
       "      <td>NaN</td>\n",
       "      <td>NaN</td>\n",
       "      <td>93800.0</td>\n",
       "      <td>NaN</td>\n",
       "      <td>86600.0</td>\n",
       "      <td>90600.0</td>\n",
       "      <td>113100.0</td>\n",
       "      <td>NaN</td>\n",
       "      <td>NaN</td>\n",
       "      <td>46107</td>\n",
       "    </tr>\n",
       "    <tr>\n",
       "      <th>1</th>\n",
       "      <td>1996-05-31</td>\n",
       "      <td>NaN</td>\n",
       "      <td>NaN</td>\n",
       "      <td>NaN</td>\n",
       "      <td>NaN</td>\n",
       "      <td>NaN</td>\n",
       "      <td>NaN</td>\n",
       "      <td>92100.0</td>\n",
       "      <td>NaN</td>\n",
       "      <td>85400.0</td>\n",
       "      <td>89300.0</td>\n",
       "      <td>111900.0</td>\n",
       "      <td>NaN</td>\n",
       "      <td>NaN</td>\n",
       "      <td>46107</td>\n",
       "    </tr>\n",
       "    <tr>\n",
       "      <th>2</th>\n",
       "      <td>1996-06-30</td>\n",
       "      <td>NaN</td>\n",
       "      <td>NaN</td>\n",
       "      <td>NaN</td>\n",
       "      <td>NaN</td>\n",
       "      <td>NaN</td>\n",
       "      <td>NaN</td>\n",
       "      <td>90300.0</td>\n",
       "      <td>NaN</td>\n",
       "      <td>84100.0</td>\n",
       "      <td>87900.0</td>\n",
       "      <td>110900.0</td>\n",
       "      <td>NaN</td>\n",
       "      <td>NaN</td>\n",
       "      <td>46107</td>\n",
       "    </tr>\n",
       "    <tr>\n",
       "      <th>3</th>\n",
       "      <td>1996-07-31</td>\n",
       "      <td>NaN</td>\n",
       "      <td>NaN</td>\n",
       "      <td>NaN</td>\n",
       "      <td>NaN</td>\n",
       "      <td>NaN</td>\n",
       "      <td>NaN</td>\n",
       "      <td>88400.0</td>\n",
       "      <td>NaN</td>\n",
       "      <td>82800.0</td>\n",
       "      <td>86500.0</td>\n",
       "      <td>109800.0</td>\n",
       "      <td>NaN</td>\n",
       "      <td>NaN</td>\n",
       "      <td>46107</td>\n",
       "    </tr>\n",
       "    <tr>\n",
       "      <th>4</th>\n",
       "      <td>1996-08-31</td>\n",
       "      <td>NaN</td>\n",
       "      <td>NaN</td>\n",
       "      <td>NaN</td>\n",
       "      <td>NaN</td>\n",
       "      <td>NaN</td>\n",
       "      <td>NaN</td>\n",
       "      <td>86500.0</td>\n",
       "      <td>NaN</td>\n",
       "      <td>81500.0</td>\n",
       "      <td>85200.0</td>\n",
       "      <td>108800.0</td>\n",
       "      <td>NaN</td>\n",
       "      <td>NaN</td>\n",
       "      <td>46107</td>\n",
       "    </tr>\n",
       "  </tbody>\n",
       "</table>\n",
       "</div>"
      ],
      "text/plain": [
       "         Date  % of Homes Decreasing in Value  % of Homes Increasing in Value  \\\n",
       "0  1996-04-30                             NaN                             NaN   \n",
       "1  1996-05-31                             NaN                             NaN   \n",
       "2  1996-06-30                             NaN                             NaN   \n",
       "3  1996-07-31                             NaN                             NaN   \n",
       "4  1996-08-31                             NaN                             NaN   \n",
       "\n",
       "   % of Listings with Price Reduction  Median % Reduction  Median List Price  \\\n",
       "0                                 NaN                 NaN                NaN   \n",
       "1                                 NaN                 NaN                NaN   \n",
       "2                                 NaN                 NaN                NaN   \n",
       "3                                 NaN                 NaN                NaN   \n",
       "4                                 NaN                 NaN                NaN   \n",
       "\n",
       "   Median List Price per Square Foot  Median Market Value (Single Family)  \\\n",
       "0                                NaN                              93800.0   \n",
       "1                                NaN                              92100.0   \n",
       "2                                NaN                              90300.0   \n",
       "3                                NaN                              88400.0   \n",
       "4                                NaN                              86500.0   \n",
       "\n",
       "   Median Price 1 Bedroom  Median Price 2 Bedroom  Median Price 3 Bedroom  \\\n",
       "0                     NaN                 86600.0                 90600.0   \n",
       "1                     NaN                 85400.0                 89300.0   \n",
       "2                     NaN                 84100.0                 87900.0   \n",
       "3                     NaN                 82800.0                 86500.0   \n",
       "4                     NaN                 81500.0                 85200.0   \n",
       "\n",
       "   Median Price 4 Bedroom  Median Price 5 Bedroom  Sales per Month  Zip_Code  \n",
       "0                113100.0                     NaN              NaN     46107  \n",
       "1                111900.0                     NaN              NaN     46107  \n",
       "2                110900.0                     NaN              NaN     46107  \n",
       "3                109800.0                     NaN              NaN     46107  \n",
       "4                108800.0                     NaN              NaN     46107  "
      ]
     },
     "execution_count": 24,
     "metadata": {},
     "output_type": "execute_result"
    }
   ],
   "source": [
    "housing_data_46107 = housing_data.loc[housing_data['Zip_Code'] == 46107]\n",
    "housing_data_46107.head()"
   ]
  },
  {
   "cell_type": "code",
   "execution_count": 25,
   "metadata": {},
   "outputs": [
    {
     "data": {
      "text/plain": [
       "array([46107])"
      ]
     },
     "execution_count": 25,
     "metadata": {},
     "output_type": "execute_result"
    }
   ],
   "source": [
    "housing_data_46107.Zip_Code.unique()"
   ]
  },
  {
   "cell_type": "code",
   "execution_count": 26,
   "metadata": {},
   "outputs": [
    {
     "data": {
      "text/html": [
       "<div>\n",
       "<style scoped>\n",
       "    .dataframe tbody tr th:only-of-type {\n",
       "        vertical-align: middle;\n",
       "    }\n",
       "\n",
       "    .dataframe tbody tr th {\n",
       "        vertical-align: top;\n",
       "    }\n",
       "\n",
       "    .dataframe thead th {\n",
       "        text-align: right;\n",
       "    }\n",
       "</style>\n",
       "<table border=\"1\" class=\"dataframe\">\n",
       "  <thead>\n",
       "    <tr style=\"text-align: right;\">\n",
       "      <th></th>\n",
       "      <th>Date</th>\n",
       "      <th>Median List Price</th>\n",
       "      <th>Median List Price per Square Foot</th>\n",
       "      <th>Median Market Value (Single Family)</th>\n",
       "      <th>Median Price 1 Bedroom</th>\n",
       "      <th>Median Price 2 Bedroom</th>\n",
       "      <th>Median Price 3 Bedroom</th>\n",
       "      <th>Median Price 4 Bedroom</th>\n",
       "      <th>Median Price 5 Bedroom</th>\n",
       "      <th>Zip_Code</th>\n",
       "    </tr>\n",
       "  </thead>\n",
       "  <tbody>\n",
       "    <tr>\n",
       "      <th>0</th>\n",
       "      <td>1996-04-30</td>\n",
       "      <td>NaN</td>\n",
       "      <td>NaN</td>\n",
       "      <td>93800.0</td>\n",
       "      <td>NaN</td>\n",
       "      <td>86600.0</td>\n",
       "      <td>90600.0</td>\n",
       "      <td>113100.0</td>\n",
       "      <td>NaN</td>\n",
       "      <td>46107</td>\n",
       "    </tr>\n",
       "    <tr>\n",
       "      <th>1</th>\n",
       "      <td>1996-05-31</td>\n",
       "      <td>NaN</td>\n",
       "      <td>NaN</td>\n",
       "      <td>92100.0</td>\n",
       "      <td>NaN</td>\n",
       "      <td>85400.0</td>\n",
       "      <td>89300.0</td>\n",
       "      <td>111900.0</td>\n",
       "      <td>NaN</td>\n",
       "      <td>46107</td>\n",
       "    </tr>\n",
       "    <tr>\n",
       "      <th>2</th>\n",
       "      <td>1996-06-30</td>\n",
       "      <td>NaN</td>\n",
       "      <td>NaN</td>\n",
       "      <td>90300.0</td>\n",
       "      <td>NaN</td>\n",
       "      <td>84100.0</td>\n",
       "      <td>87900.0</td>\n",
       "      <td>110900.0</td>\n",
       "      <td>NaN</td>\n",
       "      <td>46107</td>\n",
       "    </tr>\n",
       "    <tr>\n",
       "      <th>3</th>\n",
       "      <td>1996-07-31</td>\n",
       "      <td>NaN</td>\n",
       "      <td>NaN</td>\n",
       "      <td>88400.0</td>\n",
       "      <td>NaN</td>\n",
       "      <td>82800.0</td>\n",
       "      <td>86500.0</td>\n",
       "      <td>109800.0</td>\n",
       "      <td>NaN</td>\n",
       "      <td>46107</td>\n",
       "    </tr>\n",
       "    <tr>\n",
       "      <th>4</th>\n",
       "      <td>1996-08-31</td>\n",
       "      <td>NaN</td>\n",
       "      <td>NaN</td>\n",
       "      <td>86500.0</td>\n",
       "      <td>NaN</td>\n",
       "      <td>81500.0</td>\n",
       "      <td>85200.0</td>\n",
       "      <td>108800.0</td>\n",
       "      <td>NaN</td>\n",
       "      <td>46107</td>\n",
       "    </tr>\n",
       "  </tbody>\n",
       "</table>\n",
       "</div>"
      ],
      "text/plain": [
       "         Date  Median List Price  Median List Price per Square Foot  \\\n",
       "0  1996-04-30                NaN                                NaN   \n",
       "1  1996-05-31                NaN                                NaN   \n",
       "2  1996-06-30                NaN                                NaN   \n",
       "3  1996-07-31                NaN                                NaN   \n",
       "4  1996-08-31                NaN                                NaN   \n",
       "\n",
       "   Median Market Value (Single Family)  Median Price 1 Bedroom  \\\n",
       "0                              93800.0                     NaN   \n",
       "1                              92100.0                     NaN   \n",
       "2                              90300.0                     NaN   \n",
       "3                              88400.0                     NaN   \n",
       "4                              86500.0                     NaN   \n",
       "\n",
       "   Median Price 2 Bedroom  Median Price 3 Bedroom  Median Price 4 Bedroom  \\\n",
       "0                 86600.0                 90600.0                113100.0   \n",
       "1                 85400.0                 89300.0                111900.0   \n",
       "2                 84100.0                 87900.0                110900.0   \n",
       "3                 82800.0                 86500.0                109800.0   \n",
       "4                 81500.0                 85200.0                108800.0   \n",
       "\n",
       "   Median Price 5 Bedroom  Zip_Code  \n",
       "0                     NaN     46107  \n",
       "1                     NaN     46107  \n",
       "2                     NaN     46107  \n",
       "3                     NaN     46107  \n",
       "4                     NaN     46107  "
      ]
     },
     "execution_count": 26,
     "metadata": {},
     "output_type": "execute_result"
    }
   ],
   "source": [
    "housing_data_46107 = housing_data_46107.drop(['% of Homes Decreasing in Value', \n",
    "                                              '% of Homes Increasing in Value',\n",
    "                                              '% of Listings with Price Reduction', \n",
    "                                              'Median % Reduction', \n",
    "                                              'Sales per Month'], axis =1)\n",
    "housing_data_46107.head()"
   ]
  },
  {
   "cell_type": "code",
   "execution_count": 27,
   "metadata": {},
   "outputs": [
    {
     "data": {
      "text/plain": [
       "Date                                   288\n",
       "Median List Price                      120\n",
       "Median List Price per Square Foot      120\n",
       "Median Market Value (Single Family)    288\n",
       "Median Price 1 Bedroom                 241\n",
       "Median Price 2 Bedroom                 288\n",
       "Median Price 3 Bedroom                 288\n",
       "Median Price 4 Bedroom                 288\n",
       "Median Price 5 Bedroom                 249\n",
       "Zip_Code                               288\n",
       "dtype: int64"
      ]
     },
     "execution_count": 27,
     "metadata": {},
     "output_type": "execute_result"
    }
   ],
   "source": [
    "housing_data_46107.count()"
   ]
  },
  {
   "cell_type": "code",
   "execution_count": 28,
   "metadata": {},
   "outputs": [],
   "source": [
    "housing_data_46107['Month'] = housing_data_46107.Date.apply(lambda x: x[5:7]).astype(str).astype(int)"
   ]
  },
  {
   "cell_type": "code",
   "execution_count": 35,
   "metadata": {},
   "outputs": [],
   "source": [
    "housing_data_46107_nonan = housing_data_46107.dropna()"
   ]
  },
  {
   "cell_type": "code",
   "execution_count": 36,
   "metadata": {},
   "outputs": [
    {
     "data": {
      "text/html": [
       "<div>\n",
       "<style scoped>\n",
       "    .dataframe tbody tr th:only-of-type {\n",
       "        vertical-align: middle;\n",
       "    }\n",
       "\n",
       "    .dataframe tbody tr th {\n",
       "        vertical-align: top;\n",
       "    }\n",
       "\n",
       "    .dataframe thead th {\n",
       "        text-align: right;\n",
       "    }\n",
       "</style>\n",
       "<table border=\"1\" class=\"dataframe\">\n",
       "  <thead>\n",
       "    <tr style=\"text-align: right;\">\n",
       "      <th></th>\n",
       "      <th>Date</th>\n",
       "      <th>Median List Price</th>\n",
       "      <th>Median List Price per Square Foot</th>\n",
       "      <th>Median Market Value (Single Family)</th>\n",
       "      <th>Median Price 1 Bedroom</th>\n",
       "      <th>Median Price 2 Bedroom</th>\n",
       "      <th>Median Price 3 Bedroom</th>\n",
       "      <th>Median Price 4 Bedroom</th>\n",
       "      <th>Median Price 5 Bedroom</th>\n",
       "      <th>Zip_Code</th>\n",
       "      <th>Month</th>\n",
       "    </tr>\n",
       "  </thead>\n",
       "  <tbody>\n",
       "    <tr>\n",
       "      <th>165</th>\n",
       "      <td>2010-01-31</td>\n",
       "      <td>85000.0</td>\n",
       "      <td>72.210744</td>\n",
       "      <td>90697.0</td>\n",
       "      <td>74742.0</td>\n",
       "      <td>74658.0</td>\n",
       "      <td>92810.0</td>\n",
       "      <td>111318.0</td>\n",
       "      <td>124281.0</td>\n",
       "      <td>46107</td>\n",
       "      <td>1</td>\n",
       "    </tr>\n",
       "    <tr>\n",
       "      <th>166</th>\n",
       "      <td>2010-02-28</td>\n",
       "      <td>89200.0</td>\n",
       "      <td>78.443969</td>\n",
       "      <td>91251.0</td>\n",
       "      <td>74688.0</td>\n",
       "      <td>75016.0</td>\n",
       "      <td>93312.0</td>\n",
       "      <td>112212.0</td>\n",
       "      <td>124241.0</td>\n",
       "      <td>46107</td>\n",
       "      <td>2</td>\n",
       "    </tr>\n",
       "    <tr>\n",
       "      <th>167</th>\n",
       "      <td>2010-03-31</td>\n",
       "      <td>85000.0</td>\n",
       "      <td>72.844325</td>\n",
       "      <td>91249.0</td>\n",
       "      <td>74266.0</td>\n",
       "      <td>74785.0</td>\n",
       "      <td>93334.0</td>\n",
       "      <td>112491.0</td>\n",
       "      <td>123636.0</td>\n",
       "      <td>46107</td>\n",
       "      <td>3</td>\n",
       "    </tr>\n",
       "    <tr>\n",
       "      <th>168</th>\n",
       "      <td>2010-04-30</td>\n",
       "      <td>85000.0</td>\n",
       "      <td>72.815534</td>\n",
       "      <td>91458.0</td>\n",
       "      <td>74323.0</td>\n",
       "      <td>74993.0</td>\n",
       "      <td>93527.0</td>\n",
       "      <td>112396.0</td>\n",
       "      <td>123167.0</td>\n",
       "      <td>46107</td>\n",
       "      <td>4</td>\n",
       "    </tr>\n",
       "    <tr>\n",
       "      <th>169</th>\n",
       "      <td>2010-05-31</td>\n",
       "      <td>87500.0</td>\n",
       "      <td>78.443969</td>\n",
       "      <td>91358.0</td>\n",
       "      <td>74595.0</td>\n",
       "      <td>75207.0</td>\n",
       "      <td>93395.0</td>\n",
       "      <td>111758.0</td>\n",
       "      <td>122363.0</td>\n",
       "      <td>46107</td>\n",
       "      <td>5</td>\n",
       "    </tr>\n",
       "  </tbody>\n",
       "</table>\n",
       "</div>"
      ],
      "text/plain": [
       "           Date  Median List Price  Median List Price per Square Foot  \\\n",
       "165  2010-01-31            85000.0                          72.210744   \n",
       "166  2010-02-28            89200.0                          78.443969   \n",
       "167  2010-03-31            85000.0                          72.844325   \n",
       "168  2010-04-30            85000.0                          72.815534   \n",
       "169  2010-05-31            87500.0                          78.443969   \n",
       "\n",
       "     Median Market Value (Single Family)  Median Price 1 Bedroom  \\\n",
       "165                              90697.0                 74742.0   \n",
       "166                              91251.0                 74688.0   \n",
       "167                              91249.0                 74266.0   \n",
       "168                              91458.0                 74323.0   \n",
       "169                              91358.0                 74595.0   \n",
       "\n",
       "     Median Price 2 Bedroom  Median Price 3 Bedroom  Median Price 4 Bedroom  \\\n",
       "165                 74658.0                 92810.0                111318.0   \n",
       "166                 75016.0                 93312.0                112212.0   \n",
       "167                 74785.0                 93334.0                112491.0   \n",
       "168                 74993.0                 93527.0                112396.0   \n",
       "169                 75207.0                 93395.0                111758.0   \n",
       "\n",
       "     Median Price 5 Bedroom  Zip_Code  Month  \n",
       "165                124281.0     46107      1  \n",
       "166                124241.0     46107      2  \n",
       "167                123636.0     46107      3  \n",
       "168                123167.0     46107      4  \n",
       "169                122363.0     46107      5  "
      ]
     },
     "execution_count": 36,
     "metadata": {},
     "output_type": "execute_result"
    }
   ],
   "source": [
    "housing_data_46107_nonan.head()"
   ]
  },
  {
   "cell_type": "code",
   "execution_count": 37,
   "metadata": {},
   "outputs": [
    {
     "name": "stdout",
     "output_type": "stream",
     "text": [
      "(120, 5) (120, 1)\n"
     ]
    }
   ],
   "source": [
    "# Assign the data to X and y\n",
    "\n",
    "X = housing_data_46107_nonan[[\"Median Market Value (Single Family)\", \n",
    "                        \"Month\", \"Median Price 2 Bedroom\", \n",
    "                        \"Median Price 3 Bedroom\", \"Median Price 4 Bedroom\"]]\n",
    "y = housing_data_46107_nonan[\"Median List Price per Square Foot\"].values.reshape(-1, 1)\n",
    "print(X.shape, y.shape)"
   ]
  },
  {
   "cell_type": "code",
   "execution_count": 38,
   "metadata": {},
   "outputs": [],
   "source": [
    " # Use train_test_split to create training and testing data\n",
    "\n",
    "### BEGIN SOLUTION\n",
    "from sklearn.model_selection import train_test_split\n",
    "\n",
    "X_train, X_test, y_train, y_test = train_test_split(X, y, random_state=42)\n",
    "\n",
    "### END SOLUTION"
   ]
  },
  {
   "cell_type": "markdown",
   "metadata": {},
   "source": [
    "## Linear Regression Model"
   ]
  },
  {
   "cell_type": "code",
   "execution_count": 39,
   "metadata": {},
   "outputs": [],
   "source": [
    "# Create the model using LinearRegression\n",
    "\n",
    "### BEGIN SOLUTION\n",
    "from sklearn.linear_model import LinearRegression\n",
    "model = LinearRegression()\n",
    "### END SOLUTION"
   ]
  },
  {
   "cell_type": "code",
   "execution_count": 41,
   "metadata": {},
   "outputs": [],
   "source": [
    "from sklearn.preprocessing import StandardScaler\n",
    "\n",
    "# Create a StandardScater model and fit it to the training data\n",
    "\n",
    "### BEGIN SOLUTION\n",
    "X_scaler = StandardScaler().fit(X_train)\n",
    "y_scaler = StandardScaler().fit(y_train)\n",
    "### END SOLUTION"
   ]
  },
  {
   "cell_type": "code",
   "execution_count": 42,
   "metadata": {},
   "outputs": [],
   "source": [
    "# Transform the training and testing data using the X_scaler and y_scaler models\n",
    "\n",
    "### BEGIN SOLUTION\n",
    "X_train_scaled = X_scaler.transform(X_train)\n",
    "X_test_scaled = X_scaler.transform(X_test)\n",
    "y_train_scaled = y_scaler.transform(y_train)\n",
    "y_test_scaled = y_scaler.transform(y_test)\n",
    "### END SOLUTION"
   ]
  },
  {
   "cell_type": "code",
   "execution_count": null,
   "metadata": {},
   "outputs": [],
   "source": []
  },
  {
   "cell_type": "code",
   "execution_count": 43,
   "metadata": {},
   "outputs": [
    {
     "data": {
      "text/plain": [
       "LinearRegression(copy_X=True, fit_intercept=True, n_jobs=None, normalize=False)"
      ]
     },
     "execution_count": 43,
     "metadata": {},
     "output_type": "execute_result"
    }
   ],
   "source": [
    "# Create a LinearRegression model and fit it to the scaled training data\n",
    "\n",
    "### BEGIN SOLUTION\n",
    "from sklearn.linear_model import LinearRegression\n",
    "model = LinearRegression()\n",
    "model.fit(X_train_scaled, y_train_scaled)\n",
    "### END SOLUTION"
   ]
  },
  {
   "cell_type": "code",
   "execution_count": 48,
   "metadata": {},
   "outputs": [
    {
     "ename": "AttributeError",
     "evalue": "'LinearRegression' object has no attribute 'save'",
     "output_type": "error",
     "traceback": [
      "\u001b[0;31m---------------------------------------------------------------------------\u001b[0m",
      "\u001b[0;31mAttributeError\u001b[0m                            Traceback (most recent call last)",
      "\u001b[0;32m<ipython-input-48-feb0d0d2bd44>\u001b[0m in \u001b[0;36m<module>\u001b[0;34m\u001b[0m\n\u001b[0;32m----> 1\u001b[0;31m \u001b[0mmodel\u001b[0m\u001b[0;34m.\u001b[0m\u001b[0msave\u001b[0m\u001b[0;34m(\u001b[0m\u001b[0;34m'Linear_regression_model.h5'\u001b[0m\u001b[0;34m)\u001b[0m\u001b[0;34m\u001b[0m\u001b[0;34m\u001b[0m\u001b[0m\n\u001b[0m",
      "\u001b[0;31mAttributeError\u001b[0m: 'LinearRegression' object has no attribute 'save'"
     ]
    }
   ],
   "source": [
    "model.save('Linear_regression_model.h5')"
   ]
  },
  {
   "cell_type": "code",
   "execution_count": 44,
   "metadata": {},
   "outputs": [
    {
     "data": {
      "image/png": "[encoded data removed]",
      "text/plain": [
       "<Figure size 432x288 with 1 Axes>"
      ]
     },
     "metadata": {
      "needs_background": "light"
     },
     "output_type": "display_data"
    }
   ],
   "source": [
    "# Make predictions using a fitted model\n",
    "# Plot the difference between the model predicted values and actual y values, versus the model predicted values\n",
    "# Hint: You can predict values of X training and testing data using the model.predict() method on a fitted model\n",
    "\n",
    "### BEGIN SOLUTION\n",
    "import matplotlib.pyplot as plt\n",
    "predictions = model.predict(X_test_scaled)\n",
    "model.fit(X_train_scaled, y_train_scaled)\n",
    "plt.scatter(model.predict(X_train_scaled), model.predict(X_train_scaled) - y_train_scaled, c=\"blue\", label=\"Training Data\")\n",
    "plt.scatter(model.predict(X_test_scaled), model.predict(X_test_scaled) - y_test_scaled, c=\"orange\", label=\"Testing Data\")\n",
    "plt.legend()\n",
    "plt.hlines(y=0, xmin=y_test_scaled.min(), xmax=y_test_scaled.max())\n",
    "plt.title(\"Residual Plot\")\n",
    "plt.show()\n",
    "### END SOLUTION"
   ]
  },
  {
   "cell_type": "code",
   "execution_count": 46,
   "metadata": {},
   "outputs": [
    {
     "name": "stdout",
     "output_type": "stream",
     "text": [
      "MSE: 0.07102212905173208, R2: 0.9067766507862965\n"
     ]
    }
   ],
   "source": [
    " # Used X_test_scaled, y_test_scaled, and model.predict(X_test_scaled) to calculate MSE and R2\n",
    "\n",
    "### BEGIN SOLUTION\n",
    "from sklearn.metrics import mean_squared_error\n",
    "\n",
    "MSE = mean_squared_error(y_test_scaled, predictions)\n",
    "r2 = model.score(X_test_scaled, y_test_scaled)\n",
    "### END SOLUTION\n",
    "\n",
    "print(f\"MSE: {MSE}, R2: {r2}\")"
   ]
  },
  {
   "cell_type": "code",
   "execution_count": null,
   "metadata": {},
   "outputs": [],
   "source": [
    "March46220_predictionData_scaled = X_scaler.transform(March46220_predictionData)\n"
   ]
  },
  {
   "cell_type": "markdown",
   "metadata": {},
   "source": [
    "## LASSO model"
   ]
  },
  {
   "cell_type": "code",
   "execution_count": 47,
   "metadata": {},
   "outputs": [
    {
     "name": "stdout",
     "output_type": "stream",
     "text": [
      "MSE: 0.06765916341888588, R2: 0.9111908653947625\n"
     ]
    }
   ],
   "source": [
    "# LASSO model\n",
    "# Note: Use an alpha of .01 when creating the model for this activity\n",
    "from sklearn.linear_model import Lasso\n",
    "\n",
    "### BEGIN SOLUTION\n",
    "lasso = Lasso(alpha=.01).fit(X_train_scaled, y_train_scaled)\n",
    "\n",
    "lasso_predictions = lasso.predict(X_test_scaled)\n",
    "\n",
    "lasso_MSE = mean_squared_error(y_test_scaled, lasso_predictions)\n",
    "lasso_r2 = lasso.score(X_test_scaled, y_test_scaled)\n",
    "### END SOLUTION\n",
    "\n",
    "print(f\"MSE: {lasso_MSE}, R2: {lasso_r2}\")"
   ]
  },
  {
   "cell_type": "code",
   "execution_count": 16,
   "metadata": {},
   "outputs": [
    {
     "data": {
      "text/plain": [
       "168"
      ]
     },
     "execution_count": 16,
     "metadata": {},
     "output_type": "execute_result"
    }
   ],
   "source": [
    "housing_data_46107['Median List Price'].isna().sum()"
   ]
  },
  {
   "cell_type": "code",
   "execution_count": 9,
   "metadata": {},
   "outputs": [
    {
     "data": {
      "text/html": [
       "<div>\n",
       "<style scoped>\n",
       "    .dataframe tbody tr th:only-of-type {\n",
       "        vertical-align: middle;\n",
       "    }\n",
       "\n",
       "    .dataframe tbody tr th {\n",
       "        vertical-align: top;\n",
       "    }\n",
       "\n",
       "    .dataframe thead th {\n",
       "        text-align: right;\n",
       "    }\n",
       "</style>\n",
       "<table border=\"1\" class=\"dataframe\">\n",
       "  <thead>\n",
       "    <tr style=\"text-align: right;\">\n",
       "      <th></th>\n",
       "      <th>Zip_Code</th>\n",
       "      <th>Date</th>\n",
       "      <th>Median List Price</th>\n",
       "      <th>Median List Price per Square Foot</th>\n",
       "      <th>Median Market Value (Single Family)</th>\n",
       "      <th>variable</th>\n",
       "      <th>value</th>\n",
       "    </tr>\n",
       "  </thead>\n",
       "  <tbody>\n",
       "    <tr>\n",
       "      <th>0</th>\n",
       "      <td>46107</td>\n",
       "      <td>1996-04-30</td>\n",
       "      <td>NaN</td>\n",
       "      <td>NaN</td>\n",
       "      <td>93800.0</td>\n",
       "      <td>Median Price 1 Bedroom</td>\n",
       "      <td>NaN</td>\n",
       "    </tr>\n",
       "    <tr>\n",
       "      <th>1</th>\n",
       "      <td>46107</td>\n",
       "      <td>1996-05-31</td>\n",
       "      <td>NaN</td>\n",
       "      <td>NaN</td>\n",
       "      <td>92100.0</td>\n",
       "      <td>Median Price 1 Bedroom</td>\n",
       "      <td>NaN</td>\n",
       "    </tr>\n",
       "    <tr>\n",
       "      <th>2</th>\n",
       "      <td>46107</td>\n",
       "      <td>1996-06-30</td>\n",
       "      <td>NaN</td>\n",
       "      <td>NaN</td>\n",
       "      <td>90300.0</td>\n",
       "      <td>Median Price 1 Bedroom</td>\n",
       "      <td>NaN</td>\n",
       "    </tr>\n",
       "    <tr>\n",
       "      <th>3</th>\n",
       "      <td>46107</td>\n",
       "      <td>1996-07-31</td>\n",
       "      <td>NaN</td>\n",
       "      <td>NaN</td>\n",
       "      <td>88400.0</td>\n",
       "      <td>Median Price 1 Bedroom</td>\n",
       "      <td>NaN</td>\n",
       "    </tr>\n",
       "    <tr>\n",
       "      <th>4</th>\n",
       "      <td>46107</td>\n",
       "      <td>1996-08-31</td>\n",
       "      <td>NaN</td>\n",
       "      <td>NaN</td>\n",
       "      <td>86500.0</td>\n",
       "      <td>Median Price 1 Bedroom</td>\n",
       "      <td>NaN</td>\n",
       "    </tr>\n",
       "  </tbody>\n",
       "</table>\n",
       "</div>"
      ],
      "text/plain": [
       "   Zip_Code        Date  Median List Price  Median List Price per Square Foot  \\\n",
       "0     46107  1996-04-30                NaN                                NaN   \n",
       "1     46107  1996-05-31                NaN                                NaN   \n",
       "2     46107  1996-06-30                NaN                                NaN   \n",
       "3     46107  1996-07-31                NaN                                NaN   \n",
       "4     46107  1996-08-31                NaN                                NaN   \n",
       "\n",
       "   Median Market Value (Single Family)                variable  value  \n",
       "0                              93800.0  Median Price 1 Bedroom    NaN  \n",
       "1                              92100.0  Median Price 1 Bedroom    NaN  \n",
       "2                              90300.0  Median Price 1 Bedroom    NaN  \n",
       "3                              88400.0  Median Price 1 Bedroom    NaN  \n",
       "4                              86500.0  Median Price 1 Bedroom    NaN  "
      ]
     },
     "execution_count": 9,
     "metadata": {},
     "output_type": "execute_result"
    }
   ],
   "source": [
    "housing_data_46107_melt = housing_data_46107.melt(id_vars=['Zip_Code', 'Date', \n",
    "                                                           'Median List Price', \n",
    "                                                           'Median List Price per Square Foot',\n",
    "                                                           'Median Market Value (Single Family)'],\n",
    "                                                 value_vars = ['Median Price 1 Bedroom',\n",
    "                                                              'Median Price 2 Bedroom',\n",
    "                                                              'Median Price 3 Bedroom',\n",
    "                                                              'Median Price 4 Bedroom',\n",
    "                                                              'Median Price 5 Bedroom'])\n",
    "housing_data_46107_melt.head()"
   ]
  },
  {
   "cell_type": "code",
   "execution_count": 12,
   "metadata": {},
   "outputs": [],
   "source": [
    "import matplotlib.pyplot as plt"
   ]
  },
  {
   "cell_type": "code",
   "execution_count": 14,
   "metadata": {},
   "outputs": [
    {
     "data": {
      "image/png": "[encoded data removed]",
      "text/plain": [
       "<Figure size 432x288 with 1 Axes>"
      ]
     },
     "metadata": {
      "needs_background": "light"
     },
     "output_type": "display_data"
    }
   ],
   "source": [
    "housing_data_46107.plot.bar(x='Date', y='Median Market Value (Single Family)')\n",
    "plt.show()"
   ]
  },
  {
   "cell_type": "code",
   "execution_count": null,
   "metadata": {},
   "outputs": [],
   "source": []
  }
 ],
 "metadata": {
  "kernelspec": {
   "display_name": "Python 3",
   "language": "python",
   "name": "python3"
  },
  "language_info": {
   "codemirror_mode": {
    "name": "ipython",
    "version": 3
   },
   "file_extension": ".py",
   "mimetype": "text/x-python",
   "name": "python",
   "nbconvert_exporter": "python",
   "pygments_lexer": "ipython3",
   "version": "3.7.6"
  }
 },
 "nbformat": 4,
 "nbformat_minor": 4
}
