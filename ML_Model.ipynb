{
 "cells": [
  {
   "cell_type": "code",
   "execution_count": 126,
   "metadata": {},
   "outputs": [],
   "source": [
    "# Use some functions from tensorflow_docs\n",
    "!pip install -q git+https://github.com/tensorflow/docs"
   ]
  },
  {
   "cell_type": "markdown",
   "metadata": {},
   "source": [
    "## Read the CSV"
   ]
  },
  {
   "cell_type": "code",
   "execution_count": 128,
   "metadata": {},
   "outputs": [],
   "source": [
    "import csv\n",
    "import pandas as pd"
   ]
  },
  {
   "cell_type": "code",
   "execution_count": 129,
   "metadata": {},
   "outputs": [
    {
     "data": {
      "text/html": [
       "<div>\n",
       "<style scoped>\n",
       "    .dataframe tbody tr th:only-of-type {\n",
       "        vertical-align: middle;\n",
       "    }\n",
       "\n",
       "    .dataframe tbody tr th {\n",
       "        vertical-align: top;\n",
       "    }\n",
       "\n",
       "    .dataframe thead th {\n",
       "        text-align: right;\n",
       "    }\n",
       "</style>\n",
       "<table border=\"1\" class=\"dataframe\">\n",
       "  <thead>\n",
       "    <tr style=\"text-align: right;\">\n",
       "      <th></th>\n",
       "      <th>Unnamed: 0</th>\n",
       "      <th>Date</th>\n",
       "      <th>Year</th>\n",
       "      <th>Integer_Year</th>\n",
       "      <th>Month</th>\n",
       "      <th>Zip_Code</th>\n",
       "      <th>Zip_Code_Integer</th>\n",
       "      <th>Median Bedroom Price</th>\n",
       "      <th>Median Market Value (Single Family)</th>\n",
       "      <th>Median List Price per SqFt Calculated</th>\n",
       "      <th>Median List Price Calculated</th>\n",
       "      <th>No. of Bedrooms</th>\n",
       "    </tr>\n",
       "  </thead>\n",
       "  <tbody>\n",
       "    <tr>\n",
       "      <th>0</th>\n",
       "      <td>0</td>\n",
       "      <td>1997-02-28</td>\n",
       "      <td>1997</td>\n",
       "      <td>2</td>\n",
       "      <td>2</td>\n",
       "      <td>46220</td>\n",
       "      <td>1</td>\n",
       "      <td>253600.0</td>\n",
       "      <td>127200.0</td>\n",
       "      <td>99.813379</td>\n",
       "      <td>142629.734862</td>\n",
       "      <td>5</td>\n",
       "    </tr>\n",
       "    <tr>\n",
       "      <th>1</th>\n",
       "      <td>1</td>\n",
       "      <td>1998-02-28</td>\n",
       "      <td>1998</td>\n",
       "      <td>3</td>\n",
       "      <td>2</td>\n",
       "      <td>46220</td>\n",
       "      <td>1</td>\n",
       "      <td>283400.0</td>\n",
       "      <td>153100.0</td>\n",
       "      <td>70.432389</td>\n",
       "      <td>107461.651148</td>\n",
       "      <td>5</td>\n",
       "    </tr>\n",
       "    <tr>\n",
       "      <th>2</th>\n",
       "      <td>2</td>\n",
       "      <td>1999-02-28</td>\n",
       "      <td>1999</td>\n",
       "      <td>4</td>\n",
       "      <td>2</td>\n",
       "      <td>46220</td>\n",
       "      <td>1</td>\n",
       "      <td>292300.0</td>\n",
       "      <td>148500.0</td>\n",
       "      <td>77.745670</td>\n",
       "      <td>116215.409068</td>\n",
       "      <td>5</td>\n",
       "    </tr>\n",
       "    <tr>\n",
       "      <th>3</th>\n",
       "      <td>3</td>\n",
       "      <td>2000-02-29</td>\n",
       "      <td>2000</td>\n",
       "      <td>5</td>\n",
       "      <td>2</td>\n",
       "      <td>46220</td>\n",
       "      <td>1</td>\n",
       "      <td>259545.0</td>\n",
       "      <td>155199.0</td>\n",
       "      <td>12.289483</td>\n",
       "      <td>37866.494919</td>\n",
       "      <td>5</td>\n",
       "    </tr>\n",
       "    <tr>\n",
       "      <th>4</th>\n",
       "      <td>4</td>\n",
       "      <td>2001-02-28</td>\n",
       "      <td>2001</td>\n",
       "      <td>6</td>\n",
       "      <td>2</td>\n",
       "      <td>46220</td>\n",
       "      <td>1</td>\n",
       "      <td>285211.0</td>\n",
       "      <td>155226.0</td>\n",
       "      <td>28.325005</td>\n",
       "      <td>57060.489560</td>\n",
       "      <td>5</td>\n",
       "    </tr>\n",
       "  </tbody>\n",
       "</table>\n",
       "</div>"
      ],
      "text/plain": [
       "   Unnamed: 0        Date  Year  Integer_Year  Month  Zip_Code  \\\n",
       "0           0  1997-02-28  1997             2      2     46220   \n",
       "1           1  1998-02-28  1998             3      2     46220   \n",
       "2           2  1999-02-28  1999             4      2     46220   \n",
       "3           3  2000-02-29  2000             5      2     46220   \n",
       "4           4  2001-02-28  2001             6      2     46220   \n",
       "\n",
       "   Zip_Code_Integer  Median Bedroom Price  \\\n",
       "0                 1              253600.0   \n",
       "1                 1              283400.0   \n",
       "2                 1              292300.0   \n",
       "3                 1              259545.0   \n",
       "4                 1              285211.0   \n",
       "\n",
       "   Median Market Value (Single Family)  Median List Price per SqFt Calculated  \\\n",
       "0                             127200.0                              99.813379   \n",
       "1                             153100.0                              70.432389   \n",
       "2                             148500.0                              77.745670   \n",
       "3                             155199.0                              12.289483   \n",
       "4                             155226.0                              28.325005   \n",
       "\n",
       "   Median List Price Calculated  No. of Bedrooms  \n",
       "0                 142629.734862                5  \n",
       "1                 107461.651148                5  \n",
       "2                 116215.409068                5  \n",
       "3                  37866.494919                5  \n",
       "4                  57060.489560                5  "
      ]
     },
     "execution_count": 129,
     "metadata": {},
     "output_type": "execute_result"
    }
   ],
   "source": [
    "df = pd.read_csv(\"Indianapolis_Housing_February.csv\")\n",
    "df = df.dropna(axis='columns', how='all')\n",
    "df.head()"
   ]
  },
  {
   "cell_type": "code",
   "execution_count": 130,
   "metadata": {},
   "outputs": [
    {
     "data": {
      "text/plain": [
       "array([46220, 46219, 46227])"
      ]
     },
     "execution_count": 130,
     "metadata": {},
     "output_type": "execute_result"
    }
   ],
   "source": [
    "df.Zip_Code.unique()"
   ]
  },
  {
   "cell_type": "code",
   "execution_count": 131,
   "metadata": {},
   "outputs": [],
   "source": [
    "import pathlib\n",
    "\n",
    "import matplotlib.pyplot as plt\n",
    "import numpy as np\n",
    "import seaborn as sns"
   ]
  },
  {
   "cell_type": "code",
   "execution_count": 132,
   "metadata": {},
   "outputs": [
    {
     "name": "stdout",
     "output_type": "stream",
     "text": [
      "2.1.0\n"
     ]
    }
   ],
   "source": [
    "import tensorflow as tf\n",
    "\n",
    "from tensorflow import keras\n",
    "from tensorflow.keras import layers\n",
    "\n",
    "print(tf.__version__)"
   ]
  },
  {
   "cell_type": "code",
   "execution_count": 133,
   "metadata": {},
   "outputs": [],
   "source": [
    "import tensorflow_docs as tfdocs\n",
    "import tensorflow_docs.plots\n",
    "import tensorflow_docs.modeling"
   ]
  },
  {
   "cell_type": "code",
   "execution_count": 134,
   "metadata": {},
   "outputs": [],
   "source": [
    "df = df.drop([\"Unnamed: 0\", \"Date\", \"Year\", 'Zip_Code_Integer', 'Integer_Year', 'Month'], axis=1)"
   ]
  },
  {
   "cell_type": "code",
   "execution_count": 135,
   "metadata": {},
   "outputs": [],
   "source": [
    "df['No. of Bedrooms'] = df['No. of Bedrooms'].map({1: '1Br', 2: '2Br', 3: '3Br', 4: '4Br', 5:'5Br'})"
   ]
  },
  {
   "cell_type": "code",
   "execution_count": 136,
   "metadata": {},
   "outputs": [],
   "source": [
    "df['Zip_Code'] = df['Zip_Code'].map({46220: '46220', 46219: '46219', 46227: '46227'})"
   ]
  },
  {
   "cell_type": "code",
   "execution_count": 137,
   "metadata": {},
   "outputs": [
    {
     "data": {
      "text/html": [
       "<div>\n",
       "<style scoped>\n",
       "    .dataframe tbody tr th:only-of-type {\n",
       "        vertical-align: middle;\n",
       "    }\n",
       "\n",
       "    .dataframe tbody tr th {\n",
       "        vertical-align: top;\n",
       "    }\n",
       "\n",
       "    .dataframe thead th {\n",
       "        text-align: right;\n",
       "    }\n",
       "</style>\n",
       "<table border=\"1\" class=\"dataframe\">\n",
       "  <thead>\n",
       "    <tr style=\"text-align: right;\">\n",
       "      <th></th>\n",
       "      <th>Zip_Code</th>\n",
       "      <th>Median Bedroom Price</th>\n",
       "      <th>Median Market Value (Single Family)</th>\n",
       "      <th>Median List Price per SqFt Calculated</th>\n",
       "      <th>Median List Price Calculated</th>\n",
       "      <th>No. of Bedrooms</th>\n",
       "    </tr>\n",
       "  </thead>\n",
       "  <tbody>\n",
       "    <tr>\n",
       "      <th>0</th>\n",
       "      <td>46220</td>\n",
       "      <td>253600.0</td>\n",
       "      <td>127200.0</td>\n",
       "      <td>99.813379</td>\n",
       "      <td>142629.734862</td>\n",
       "      <td>5Br</td>\n",
       "    </tr>\n",
       "    <tr>\n",
       "      <th>1</th>\n",
       "      <td>46220</td>\n",
       "      <td>283400.0</td>\n",
       "      <td>153100.0</td>\n",
       "      <td>70.432389</td>\n",
       "      <td>107461.651148</td>\n",
       "      <td>5Br</td>\n",
       "    </tr>\n",
       "    <tr>\n",
       "      <th>2</th>\n",
       "      <td>46220</td>\n",
       "      <td>292300.0</td>\n",
       "      <td>148500.0</td>\n",
       "      <td>77.745670</td>\n",
       "      <td>116215.409068</td>\n",
       "      <td>5Br</td>\n",
       "    </tr>\n",
       "    <tr>\n",
       "      <th>3</th>\n",
       "      <td>46220</td>\n",
       "      <td>259545.0</td>\n",
       "      <td>155199.0</td>\n",
       "      <td>12.289483</td>\n",
       "      <td>37866.494919</td>\n",
       "      <td>5Br</td>\n",
       "    </tr>\n",
       "    <tr>\n",
       "      <th>4</th>\n",
       "      <td>46220</td>\n",
       "      <td>285211.0</td>\n",
       "      <td>155226.0</td>\n",
       "      <td>28.325005</td>\n",
       "      <td>57060.489560</td>\n",
       "      <td>5Br</td>\n",
       "    </tr>\n",
       "  </tbody>\n",
       "</table>\n",
       "</div>"
      ],
      "text/plain": [
       "  Zip_Code  Median Bedroom Price  Median Market Value (Single Family)  \\\n",
       "0    46220              253600.0                             127200.0   \n",
       "1    46220              283400.0                             153100.0   \n",
       "2    46220              292300.0                             148500.0   \n",
       "3    46220              259545.0                             155199.0   \n",
       "4    46220              285211.0                             155226.0   \n",
       "\n",
       "   Median List Price per SqFt Calculated  Median List Price Calculated  \\\n",
       "0                              99.813379                 142629.734862   \n",
       "1                              70.432389                 107461.651148   \n",
       "2                              77.745670                 116215.409068   \n",
       "3                              12.289483                  37866.494919   \n",
       "4                              28.325005                  57060.489560   \n",
       "\n",
       "  No. of Bedrooms  \n",
       "0             5Br  \n",
       "1             5Br  \n",
       "2             5Br  \n",
       "3             5Br  \n",
       "4             5Br  "
      ]
     },
     "execution_count": 137,
     "metadata": {},
     "output_type": "execute_result"
    }
   ],
   "source": [
    "df.head()"
   ]
  },
  {
   "cell_type": "code",
   "execution_count": 138,
   "metadata": {},
   "outputs": [
    {
     "data": {
      "text/html": [
       "<div>\n",
       "<style scoped>\n",
       "    .dataframe tbody tr th:only-of-type {\n",
       "        vertical-align: middle;\n",
       "    }\n",
       "\n",
       "    .dataframe tbody tr th {\n",
       "        vertical-align: top;\n",
       "    }\n",
       "\n",
       "    .dataframe thead th {\n",
       "        text-align: right;\n",
       "    }\n",
       "</style>\n",
       "<table border=\"1\" class=\"dataframe\">\n",
       "  <thead>\n",
       "    <tr style=\"text-align: right;\">\n",
       "      <th></th>\n",
       "      <th>Median Bedroom Price</th>\n",
       "      <th>Median Market Value (Single Family)</th>\n",
       "      <th>Median List Price per SqFt Calculated</th>\n",
       "      <th>Median List Price Calculated</th>\n",
       "      <th>46219</th>\n",
       "      <th>46220</th>\n",
       "      <th>46227</th>\n",
       "      <th>1Br</th>\n",
       "      <th>2Br</th>\n",
       "      <th>3Br</th>\n",
       "      <th>4Br</th>\n",
       "      <th>5Br</th>\n",
       "    </tr>\n",
       "  </thead>\n",
       "  <tbody>\n",
       "    <tr>\n",
       "      <th>344</th>\n",
       "      <td>65598.0</td>\n",
       "      <td>122314.0</td>\n",
       "      <td>82.500000</td>\n",
       "      <td>120000.000000</td>\n",
       "      <td>0</td>\n",
       "      <td>0</td>\n",
       "      <td>1</td>\n",
       "      <td>1</td>\n",
       "      <td>0</td>\n",
       "      <td>0</td>\n",
       "      <td>0</td>\n",
       "      <td>0</td>\n",
       "    </tr>\n",
       "    <tr>\n",
       "      <th>345</th>\n",
       "      <td>70362.0</td>\n",
       "      <td>128112.0</td>\n",
       "      <td>87.714509</td>\n",
       "      <td>129900.000000</td>\n",
       "      <td>0</td>\n",
       "      <td>0</td>\n",
       "      <td>1</td>\n",
       "      <td>1</td>\n",
       "      <td>0</td>\n",
       "      <td>0</td>\n",
       "      <td>0</td>\n",
       "      <td>0</td>\n",
       "    </tr>\n",
       "    <tr>\n",
       "      <th>346</th>\n",
       "      <td>75274.0</td>\n",
       "      <td>139410.0</td>\n",
       "      <td>102.368212</td>\n",
       "      <td>136100.000000</td>\n",
       "      <td>0</td>\n",
       "      <td>0</td>\n",
       "      <td>1</td>\n",
       "      <td>1</td>\n",
       "      <td>0</td>\n",
       "      <td>0</td>\n",
       "      <td>0</td>\n",
       "      <td>0</td>\n",
       "    </tr>\n",
       "    <tr>\n",
       "      <th>347</th>\n",
       "      <td>89682.0</td>\n",
       "      <td>154350.0</td>\n",
       "      <td>104.166667</td>\n",
       "      <td>150000.000000</td>\n",
       "      <td>0</td>\n",
       "      <td>0</td>\n",
       "      <td>1</td>\n",
       "      <td>1</td>\n",
       "      <td>0</td>\n",
       "      <td>0</td>\n",
       "      <td>0</td>\n",
       "      <td>0</td>\n",
       "    </tr>\n",
       "    <tr>\n",
       "      <th>348</th>\n",
       "      <td>92532.0</td>\n",
       "      <td>161466.0</td>\n",
       "      <td>107.894409</td>\n",
       "      <td>155245.605765</td>\n",
       "      <td>0</td>\n",
       "      <td>0</td>\n",
       "      <td>1</td>\n",
       "      <td>1</td>\n",
       "      <td>0</td>\n",
       "      <td>0</td>\n",
       "      <td>0</td>\n",
       "      <td>0</td>\n",
       "    </tr>\n",
       "  </tbody>\n",
       "</table>\n",
       "</div>"
      ],
      "text/plain": [
       "     Median Bedroom Price  Median Market Value (Single Family)  \\\n",
       "344               65598.0                             122314.0   \n",
       "345               70362.0                             128112.0   \n",
       "346               75274.0                             139410.0   \n",
       "347               89682.0                             154350.0   \n",
       "348               92532.0                             161466.0   \n",
       "\n",
       "     Median List Price per SqFt Calculated  Median List Price Calculated  \\\n",
       "344                              82.500000                 120000.000000   \n",
       "345                              87.714509                 129900.000000   \n",
       "346                             102.368212                 136100.000000   \n",
       "347                             104.166667                 150000.000000   \n",
       "348                             107.894409                 155245.605765   \n",
       "\n",
       "     46219  46220  46227  1Br  2Br  3Br  4Br  5Br  \n",
       "344      0      0      1    1    0    0    0    0  \n",
       "345      0      0      1    1    0    0    0    0  \n",
       "346      0      0      1    1    0    0    0    0  \n",
       "347      0      0      1    1    0    0    0    0  \n",
       "348      0      0      1    1    0    0    0    0  "
      ]
     },
     "execution_count": 138,
     "metadata": {},
     "output_type": "execute_result"
    }
   ],
   "source": [
    "df = pd.get_dummies(df, prefix='', prefix_sep='')\n",
    "df.tail()"
   ]
  },
  {
   "cell_type": "code",
   "execution_count": 139,
   "metadata": {},
   "outputs": [],
   "source": [
    "#data = df.drop([\"Unnamed: 0\", \"Date\", \"Zip_Code\", \"Year\"], axis=1)"
   ]
  },
  {
   "cell_type": "code",
   "execution_count": 140,
   "metadata": {},
   "outputs": [],
   "source": [
    "train_dataset = df.sample(frac=0.8,random_state=0)\n",
    "test_dataset = df.drop(train_dataset.index)"
   ]
  },
  {
   "cell_type": "code",
   "execution_count": 141,
   "metadata": {},
   "outputs": [
    {
     "data": {
      "text/plain": [
       "<seaborn.axisgrid.PairGrid at 0x14abd5950>"
      ]
     },
     "execution_count": 141,
     "metadata": {},
     "output_type": "execute_result"
    },
    {
     "data": {
      "image/png": "[encoded data removed]",
      "text/plain": [
       "<Figure size 720x720 with 20 Axes>"
      ]
     },
     "metadata": {
      "needs_background": "light"
     },
     "output_type": "display_data"
    }
   ],
   "source": [
    "sns.pairplot(train_dataset[[\"Median Bedroom Price\", \n",
    "                            \"Median Market Value (Single Family)\", \n",
    "                            \"Median List Price per SqFt Calculated\",\n",
    "                            \"Median List Price Calculated\"]], diag_kind=\"kde\")"
   ]
  },
  {
   "cell_type": "code",
   "execution_count": 142,
   "metadata": {},
   "outputs": [
    {
     "data": {
      "text/html": [
       "<div>\n",
       "<style scoped>\n",
       "    .dataframe tbody tr th:only-of-type {\n",
       "        vertical-align: middle;\n",
       "    }\n",
       "\n",
       "    .dataframe tbody tr th {\n",
       "        vertical-align: top;\n",
       "    }\n",
       "\n",
       "    .dataframe thead th {\n",
       "        text-align: right;\n",
       "    }\n",
       "</style>\n",
       "<table border=\"1\" class=\"dataframe\">\n",
       "  <thead>\n",
       "    <tr style=\"text-align: right;\">\n",
       "      <th></th>\n",
       "      <th>count</th>\n",
       "      <th>mean</th>\n",
       "      <th>std</th>\n",
       "      <th>min</th>\n",
       "      <th>25%</th>\n",
       "      <th>50%</th>\n",
       "      <th>75%</th>\n",
       "      <th>max</th>\n",
       "    </tr>\n",
       "  </thead>\n",
       "  <tbody>\n",
       "    <tr>\n",
       "      <th>Median Market Value (Single Family)</th>\n",
       "      <td>279.0</td>\n",
       "      <td>125948.107527</td>\n",
       "      <td>44433.749951</td>\n",
       "      <td>70944.000000</td>\n",
       "      <td>87312.000000</td>\n",
       "      <td>113300.000000</td>\n",
       "      <td>162344.000000</td>\n",
       "      <td>248645.000000</td>\n",
       "    </tr>\n",
       "    <tr>\n",
       "      <th>Median List Price per SqFt Calculated</th>\n",
       "      <td>279.0</td>\n",
       "      <td>85.699970</td>\n",
       "      <td>31.720591</td>\n",
       "      <td>12.289483</td>\n",
       "      <td>67.335166</td>\n",
       "      <td>77.745670</td>\n",
       "      <td>92.222529</td>\n",
       "      <td>206.825441</td>\n",
       "    </tr>\n",
       "    <tr>\n",
       "      <th>Median List Price Calculated</th>\n",
       "      <td>279.0</td>\n",
       "      <td>116476.250834</td>\n",
       "      <td>42457.013772</td>\n",
       "      <td>37866.494919</td>\n",
       "      <td>88085.783506</td>\n",
       "      <td>106906.415116</td>\n",
       "      <td>131721.867986</td>\n",
       "      <td>270719.672053</td>\n",
       "    </tr>\n",
       "    <tr>\n",
       "      <th>46219</th>\n",
       "      <td>279.0</td>\n",
       "      <td>0.336918</td>\n",
       "      <td>0.473506</td>\n",
       "      <td>0.000000</td>\n",
       "      <td>0.000000</td>\n",
       "      <td>0.000000</td>\n",
       "      <td>1.000000</td>\n",
       "      <td>1.000000</td>\n",
       "    </tr>\n",
       "    <tr>\n",
       "      <th>46220</th>\n",
       "      <td>279.0</td>\n",
       "      <td>0.347670</td>\n",
       "      <td>0.477086</td>\n",
       "      <td>0.000000</td>\n",
       "      <td>0.000000</td>\n",
       "      <td>0.000000</td>\n",
       "      <td>1.000000</td>\n",
       "      <td>1.000000</td>\n",
       "    </tr>\n",
       "    <tr>\n",
       "      <th>46227</th>\n",
       "      <td>279.0</td>\n",
       "      <td>0.315412</td>\n",
       "      <td>0.465515</td>\n",
       "      <td>0.000000</td>\n",
       "      <td>0.000000</td>\n",
       "      <td>0.000000</td>\n",
       "      <td>1.000000</td>\n",
       "      <td>1.000000</td>\n",
       "    </tr>\n",
       "    <tr>\n",
       "      <th>1Br</th>\n",
       "      <td>279.0</td>\n",
       "      <td>0.218638</td>\n",
       "      <td>0.414065</td>\n",
       "      <td>0.000000</td>\n",
       "      <td>0.000000</td>\n",
       "      <td>0.000000</td>\n",
       "      <td>0.000000</td>\n",
       "      <td>1.000000</td>\n",
       "    </tr>\n",
       "    <tr>\n",
       "      <th>2Br</th>\n",
       "      <td>279.0</td>\n",
       "      <td>0.175627</td>\n",
       "      <td>0.381186</td>\n",
       "      <td>0.000000</td>\n",
       "      <td>0.000000</td>\n",
       "      <td>0.000000</td>\n",
       "      <td>0.000000</td>\n",
       "      <td>1.000000</td>\n",
       "    </tr>\n",
       "    <tr>\n",
       "      <th>3Br</th>\n",
       "      <td>279.0</td>\n",
       "      <td>0.204301</td>\n",
       "      <td>0.403914</td>\n",
       "      <td>0.000000</td>\n",
       "      <td>0.000000</td>\n",
       "      <td>0.000000</td>\n",
       "      <td>0.000000</td>\n",
       "      <td>1.000000</td>\n",
       "    </tr>\n",
       "    <tr>\n",
       "      <th>4Br</th>\n",
       "      <td>279.0</td>\n",
       "      <td>0.200717</td>\n",
       "      <td>0.401256</td>\n",
       "      <td>0.000000</td>\n",
       "      <td>0.000000</td>\n",
       "      <td>0.000000</td>\n",
       "      <td>0.000000</td>\n",
       "      <td>1.000000</td>\n",
       "    </tr>\n",
       "    <tr>\n",
       "      <th>5Br</th>\n",
       "      <td>279.0</td>\n",
       "      <td>0.200717</td>\n",
       "      <td>0.401256</td>\n",
       "      <td>0.000000</td>\n",
       "      <td>0.000000</td>\n",
       "      <td>0.000000</td>\n",
       "      <td>0.000000</td>\n",
       "      <td>1.000000</td>\n",
       "    </tr>\n",
       "  </tbody>\n",
       "</table>\n",
       "</div>"
      ],
      "text/plain": [
       "                                       count           mean           std  \\\n",
       "Median Market Value (Single Family)    279.0  125948.107527  44433.749951   \n",
       "Median List Price per SqFt Calculated  279.0      85.699970     31.720591   \n",
       "Median List Price Calculated           279.0  116476.250834  42457.013772   \n",
       "46219                                  279.0       0.336918      0.473506   \n",
       "46220                                  279.0       0.347670      0.477086   \n",
       "46227                                  279.0       0.315412      0.465515   \n",
       "1Br                                    279.0       0.218638      0.414065   \n",
       "2Br                                    279.0       0.175627      0.381186   \n",
       "3Br                                    279.0       0.204301      0.403914   \n",
       "4Br                                    279.0       0.200717      0.401256   \n",
       "5Br                                    279.0       0.200717      0.401256   \n",
       "\n",
       "                                                min           25%  \\\n",
       "Median Market Value (Single Family)    70944.000000  87312.000000   \n",
       "Median List Price per SqFt Calculated     12.289483     67.335166   \n",
       "Median List Price Calculated           37866.494919  88085.783506   \n",
       "46219                                      0.000000      0.000000   \n",
       "46220                                      0.000000      0.000000   \n",
       "46227                                      0.000000      0.000000   \n",
       "1Br                                        0.000000      0.000000   \n",
       "2Br                                        0.000000      0.000000   \n",
       "3Br                                        0.000000      0.000000   \n",
       "4Br                                        0.000000      0.000000   \n",
       "5Br                                        0.000000      0.000000   \n",
       "\n",
       "                                                 50%            75%  \\\n",
       "Median Market Value (Single Family)    113300.000000  162344.000000   \n",
       "Median List Price per SqFt Calculated      77.745670      92.222529   \n",
       "Median List Price Calculated           106906.415116  131721.867986   \n",
       "46219                                       0.000000       1.000000   \n",
       "46220                                       0.000000       1.000000   \n",
       "46227                                       0.000000       1.000000   \n",
       "1Br                                         0.000000       0.000000   \n",
       "2Br                                         0.000000       0.000000   \n",
       "3Br                                         0.000000       0.000000   \n",
       "4Br                                         0.000000       0.000000   \n",
       "5Br                                         0.000000       0.000000   \n",
       "\n",
       "                                                 max  \n",
       "Median Market Value (Single Family)    248645.000000  \n",
       "Median List Price per SqFt Calculated     206.825441  \n",
       "Median List Price Calculated           270719.672053  \n",
       "46219                                       1.000000  \n",
       "46220                                       1.000000  \n",
       "46227                                       1.000000  \n",
       "1Br                                         1.000000  \n",
       "2Br                                         1.000000  \n",
       "3Br                                         1.000000  \n",
       "4Br                                         1.000000  \n",
       "5Br                                         1.000000  "
      ]
     },
     "execution_count": 142,
     "metadata": {},
     "output_type": "execute_result"
    }
   ],
   "source": [
    "train_stats = train_dataset.describe()\n",
    "train_stats.pop(\"Median Bedroom Price\")\n",
    "train_stats = train_stats.transpose()\n",
    "train_stats"
   ]
  },
  {
   "cell_type": "code",
   "execution_count": 143,
   "metadata": {},
   "outputs": [],
   "source": [
    "train_labels = train_dataset.pop(\"Median Bedroom Price\")\n",
    "test_labels = test_dataset.pop(\"Median Bedroom Price\")"
   ]
  },
  {
   "cell_type": "code",
   "execution_count": 144,
   "metadata": {},
   "outputs": [],
   "source": [
    "def norm(x):\n",
    "  return (x - train_stats['mean']) / train_stats['std']\n",
    "normed_train_data = norm(train_dataset)\n",
    "normed_test_data = norm(test_dataset)"
   ]
  },
  {
   "cell_type": "code",
   "execution_count": 145,
   "metadata": {},
   "outputs": [],
   "source": [
    "def build_model():\n",
    "  model = keras.Sequential([\n",
    "    layers.Dense(64, activation='relu', input_shape=[len(train_dataset.keys())]),\n",
    "    layers.Dense(64, activation='relu'),\n",
    "    layers.Dense(1)\n",
    "  ])\n",
    "\n",
    "  optimizer = tf.keras.optimizers.RMSprop(0.001)\n",
    "\n",
    "  model.compile(loss='mse',\n",
    "                optimizer=optimizer,\n",
    "                metrics=['mae', 'mse'])\n",
    "  return model"
   ]
  },
  {
   "cell_type": "code",
   "execution_count": 146,
   "metadata": {},
   "outputs": [],
   "source": [
    "model = build_model()"
   ]
  },
  {
   "cell_type": "code",
   "execution_count": 147,
   "metadata": {},
   "outputs": [
    {
     "name": "stdout",
     "output_type": "stream",
     "text": [
      "Model: \"sequential_5\"\n",
      "_________________________________________________________________\n",
      "Layer (type)                 Output Shape              Param #   \n",
      "=================================================================\n",
      "dense_15 (Dense)             (None, 64)                768       \n",
      "_________________________________________________________________\n",
      "dense_16 (Dense)             (None, 64)                4160      \n",
      "_________________________________________________________________\n",
      "dense_17 (Dense)             (None, 1)                 65        \n",
      "=================================================================\n",
      "Total params: 4,993\n",
      "Trainable params: 4,993\n",
      "Non-trainable params: 0\n",
      "_________________________________________________________________\n"
     ]
    }
   ],
   "source": [
    "model.summary()"
   ]
  },
  {
   "cell_type": "code",
   "execution_count": 148,
   "metadata": {},
   "outputs": [
    {
     "data": {
      "text/plain": [
       "array([[ 0.26496333],\n",
       "       [-0.03582357],\n",
       "       [ 0.11792781],\n",
       "       [-0.18697605],\n",
       "       [ 0.16653559],\n",
       "       [ 0.46371526],\n",
       "       [ 0.41521338],\n",
       "       [ 0.6373692 ],\n",
       "       [ 0.74981654],\n",
       "       [-0.07765213]], dtype=float32)"
      ]
     },
     "execution_count": 148,
     "metadata": {},
     "output_type": "execute_result"
    }
   ],
   "source": [
    "example_batch = normed_train_data[:10]\n",
    "example_result = model.predict(example_batch)\n",
    "example_result"
   ]
  },
  {
   "cell_type": "code",
   "execution_count": 149,
   "metadata": {},
   "outputs": [
    {
     "name": "stdout",
     "output_type": "stream",
     "text": [
      "\n",
      "Epoch: 0, loss:24608836070.7444,  mae:135906.4375,  mse:24608837632.0000,  val_loss:32620090221.7143,  val_mae:153877.6406,  val_mse:32620089344.0000,  \n",
      "....................................................................................................\n",
      "Epoch: 100, loss:23599638950.4574,  mae:133396.4062,  mse:23599636480.0000,  val_loss:31139669138.2857,  val_mae:150710.3594,  val_mse:31139670016.0000,  \n",
      "....................................................................................................\n",
      "Epoch: 200, loss:18395438681.5426,  mae:119688.7188,  mse:18395439104.0000,  val_loss:23574599094.8571,  val_mae:133422.0938,  val_mse:23574599680.0000,  \n",
      "....................................................................................................\n",
      "Epoch: 300, loss:8831489825.2915,  mae:85292.3672,  mse:8831490048.0000,  val_loss:10166436644.5714,  val_mae:90546.6406,  val_mse:10166436864.0000,  \n",
      "....................................................................................................\n",
      "Epoch: 400, loss:2327068378.6906,  mae:43427.7695,  mse:2327068416.0000,  val_loss:2779088347.4286,  val_mae:43738.4258,  val_mse:2779088384.0000,  \n",
      "....................................................................................................\n",
      "Epoch: 500, loss:808286951.6054,  mae:22757.7422,  mse:808286976.0000,  val_loss:1333741056.0000,  val_mae:26855.6699,  val_mse:1333740928.0000,  \n",
      "....................................................................................................\n",
      "Epoch: 600, loss:483035800.3946,  mae:17075.1016,  mse:483035808.0000,  val_loss:877569097.1429,  val_mae:21086.1914,  val_mse:877569088.0000,  \n",
      "....................................................................................................\n",
      "Epoch: 700, loss:328992853.8117,  mae:13793.1973,  mse:328992864.0000,  val_loss:609926692.5714,  val_mae:17558.2148,  val_mse:609926720.0000,  \n",
      "....................................................................................................\n",
      "Epoch: 800, loss:234587899.3363,  mae:11390.4727,  mse:234587888.0000,  val_loss:443362372.5714,  val_mae:14923.8193,  val_mse:443362368.0000,  \n",
      "....................................................................................................\n",
      "Epoch: 900, loss:177305422.8520,  mae:9691.7598,  mse:177305424.0000,  val_loss:332700978.2857,  val_mae:12937.7344,  val_mse:332700960.0000,  \n",
      "...................................................................................................."
     ]
    }
   ],
   "source": [
    "EPOCHS = 1000\n",
    "\n",
    "history = model.fit(\n",
    "  normed_train_data, train_labels,\n",
    "  epochs=EPOCHS, validation_split = 0.2, verbose=0,\n",
    "  callbacks=[tfdocs.modeling.EpochDots()])"
   ]
  },
  {
   "cell_type": "code",
   "execution_count": 150,
   "metadata": {},
   "outputs": [
    {
     "data": {
      "text/html": [
       "<div>\n",
       "<style scoped>\n",
       "    .dataframe tbody tr th:only-of-type {\n",
       "        vertical-align: middle;\n",
       "    }\n",
       "\n",
       "    .dataframe tbody tr th {\n",
       "        vertical-align: top;\n",
       "    }\n",
       "\n",
       "    .dataframe thead th {\n",
       "        text-align: right;\n",
       "    }\n",
       "</style>\n",
       "<table border=\"1\" class=\"dataframe\">\n",
       "  <thead>\n",
       "    <tr style=\"text-align: right;\">\n",
       "      <th></th>\n",
       "      <th>loss</th>\n",
       "      <th>mae</th>\n",
       "      <th>mse</th>\n",
       "      <th>val_loss</th>\n",
       "      <th>val_mae</th>\n",
       "      <th>val_mse</th>\n",
       "      <th>epoch</th>\n",
       "    </tr>\n",
       "  </thead>\n",
       "  <tbody>\n",
       "    <tr>\n",
       "      <th>995</th>\n",
       "      <td>1.447347e+08</td>\n",
       "      <td>8517.376953</td>\n",
       "      <td>144734720.0</td>\n",
       "      <td>2.608698e+08</td>\n",
       "      <td>11388.615234</td>\n",
       "      <td>260869792.0</td>\n",
       "      <td>995</td>\n",
       "    </tr>\n",
       "    <tr>\n",
       "      <th>996</th>\n",
       "      <td>1.448459e+08</td>\n",
       "      <td>8512.991211</td>\n",
       "      <td>144845936.0</td>\n",
       "      <td>2.602797e+08</td>\n",
       "      <td>11373.635742</td>\n",
       "      <td>260279728.0</td>\n",
       "      <td>996</td>\n",
       "    </tr>\n",
       "    <tr>\n",
       "      <th>997</th>\n",
       "      <td>1.448236e+08</td>\n",
       "      <td>8509.313477</td>\n",
       "      <td>144823584.0</td>\n",
       "      <td>2.598432e+08</td>\n",
       "      <td>11364.384766</td>\n",
       "      <td>259843232.0</td>\n",
       "      <td>997</td>\n",
       "    </tr>\n",
       "    <tr>\n",
       "      <th>998</th>\n",
       "      <td>1.439643e+08</td>\n",
       "      <td>8508.658203</td>\n",
       "      <td>143964320.0</td>\n",
       "      <td>2.592157e+08</td>\n",
       "      <td>11349.147461</td>\n",
       "      <td>259215696.0</td>\n",
       "      <td>998</td>\n",
       "    </tr>\n",
       "    <tr>\n",
       "      <th>999</th>\n",
       "      <td>1.437653e+08</td>\n",
       "      <td>8477.840820</td>\n",
       "      <td>143765296.0</td>\n",
       "      <td>2.582960e+08</td>\n",
       "      <td>11327.104492</td>\n",
       "      <td>258296032.0</td>\n",
       "      <td>999</td>\n",
       "    </tr>\n",
       "  </tbody>\n",
       "</table>\n",
       "</div>"
      ],
      "text/plain": [
       "             loss          mae          mse      val_loss       val_mae  \\\n",
       "995  1.447347e+08  8517.376953  144734720.0  2.608698e+08  11388.615234   \n",
       "996  1.448459e+08  8512.991211  144845936.0  2.602797e+08  11373.635742   \n",
       "997  1.448236e+08  8509.313477  144823584.0  2.598432e+08  11364.384766   \n",
       "998  1.439643e+08  8508.658203  143964320.0  2.592157e+08  11349.147461   \n",
       "999  1.437653e+08  8477.840820  143765296.0  2.582960e+08  11327.104492   \n",
       "\n",
       "         val_mse  epoch  \n",
       "995  260869792.0    995  \n",
       "996  260279728.0    996  \n",
       "997  259843232.0    997  \n",
       "998  259215696.0    998  \n",
       "999  258296032.0    999  "
      ]
     },
     "execution_count": 150,
     "metadata": {},
     "output_type": "execute_result"
    }
   ],
   "source": [
    "hist = pd.DataFrame(history.history)\n",
    "hist['epoch'] = history.epoch\n",
    "hist.tail()"
   ]
  },
  {
   "cell_type": "code",
   "execution_count": 151,
   "metadata": {},
   "outputs": [],
   "source": [
    "plotter = tfdocs.plots.HistoryPlotter(smoothing_std=2)"
   ]
  },
  {
   "cell_type": "code",
   "execution_count": 152,
   "metadata": {},
   "outputs": [
    {
     "data": {
      "text/plain": [
       "Text(0, 0.5, 'MAE [Median Bedroom Price]')"
      ]
     },
     "execution_count": 152,
     "metadata": {},
     "output_type": "execute_result"
    },
    {
     "data": {
      "image/png": "[encoded data removed]",
      "text/plain": [
       "<Figure size 432x288 with 1 Axes>"
      ]
     },
     "metadata": {
      "needs_background": "light"
     },
     "output_type": "display_data"
    }
   ],
   "source": [
    "plotter.plot({'Basic': history}, metric = \"mae\")\n",
    "plt.ylim([0, 100000])\n",
    "plt.ylabel('MAE [Median Bedroom Price]')"
   ]
  },
  {
   "cell_type": "code",
   "execution_count": 153,
   "metadata": {},
   "outputs": [
    {
     "name": "stdout",
     "output_type": "stream",
     "text": [
      "70/70 - 0s - loss: 228592736.9143 - mae: 10466.5928 - mse: 228592720.0000\n",
      "Testing set Mean Abs Error: $10466.59 \n"
     ]
    }
   ],
   "source": [
    "loss, mae, mse = model.evaluate(normed_test_data, test_labels, verbose=2)\n",
    "\n",
    "print(\"Testing set Mean Abs Error: ${:5.2f} \".format(mae))"
   ]
  },
  {
   "cell_type": "code",
   "execution_count": 154,
   "metadata": {},
   "outputs": [
    {
     "data": {
      "image/png": "[encoded data removed]",
      "text/plain": [
       "<Figure size 432x288 with 1 Axes>"
      ]
     },
     "metadata": {
      "needs_background": "light"
     },
     "output_type": "display_data"
    }
   ],
   "source": [
    "test_predictions = model.predict(normed_test_data).flatten()\n",
    "\n",
    "a = plt.axes(aspect='equal')\n",
    "plt.scatter(test_labels, test_predictions)\n",
    "plt.xlabel('True Values [Median Bedroom Price]')\n",
    "plt.ylabel('Predictions [Median Bedroom Price]')\n",
    "lims = [0, 500000]\n",
    "plt.xlim(lims)\n",
    "plt.ylim(lims)\n",
    "_ = plt.plot(lims, lims)"
   ]
  },
  {
   "cell_type": "code",
   "execution_count": null,
   "metadata": {},
   "outputs": [],
   "source": []
  }
 ],
 "metadata": {
  "kernelspec": {
   "display_name": "Python 3",
   "language": "python",
   "name": "python3"
  },
  "language_info": {
   "codemirror_mode": {
    "name": "ipython",
    "version": 3
   },
   "file_extension": ".py",
   "mimetype": "text/x-python",
   "name": "python",
   "nbconvert_exporter": "python",
   "pygments_lexer": "ipython3",
   "version": "3.7.6"
  }
 },
 "nbformat": 4,
 "nbformat_minor": 4
}
